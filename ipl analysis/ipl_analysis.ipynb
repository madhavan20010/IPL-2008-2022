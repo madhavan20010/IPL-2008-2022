{
  "nbformat": 4,
  "nbformat_minor": 0,
  "metadata": {
    "colab": {
      "name": "ipl_analysis.ipynb",
      "provenance": [],
      "collapsed_sections": []
    },
    "kernelspec": {
      "name": "python3",
      "display_name": "Python 3"
    },
    "language_info": {
      "name": "python"
    }
  },
  "cells": [
    {
      "cell_type": "markdown",
      "source": [
        "to import libraries"
      ],
      "metadata": {
        "id": "gZGzFtHoFzN0"
      }
    },
    {
      "cell_type": "code",
      "execution_count": 108,
      "metadata": {
        "id": "ERn2CMb6MhEP"
      },
      "outputs": [],
      "source": [
        "import numpy as np\n",
        "import pandas as pd\n",
        "import seaborn as sns\n",
        "import matplotlib.pyplot as plt\n"
      ]
    },
    {
      "cell_type": "markdown",
      "source": [
        "to read match data"
      ],
      "metadata": {
        "id": "1uSlnUDNF6nw"
      }
    },
    {
      "cell_type": "code",
      "source": [
        "\n",
        "match_data=pd.read_csv(\"/content/sample_data/ipl_match_info_data.csv\")\n",
        "match_data.head()\n"
      ],
      "metadata": {
        "colab": {
          "base_uri": "https://localhost:8080/",
          "height": 478
        },
        "id": "3FRcsUdxXHtZ",
        "outputId": "2d2d89e2-d0c9-4184-b447-73eb4ac19d48"
      },
      "execution_count": 109,
      "outputs": [
        {
          "output_type": "execute_result",
          "data": {
            "text/plain": [
              "   match_id   season        date        city  \\\n",
              "0    335982  2007/08  2008-04-18   Bangalore   \n",
              "1    335983  2007/08  2008-04-19  Chandigarh   \n",
              "2    335984  2007/08  2008-04-19       Delhi   \n",
              "3    335985  2007/08  2008-04-20      Mumbai   \n",
              "4    335986  2007/08  2008-04-20     Kolkata   \n",
              "\n",
              "                                        venue                        team1  \\\n",
              "0                       M Chinnaswamy Stadium  Royal Challengers Bangalore   \n",
              "1  Punjab Cricket Association Stadium, Mohali              Kings XI Punjab   \n",
              "2                            Feroz Shah Kotla             Delhi Daredevils   \n",
              "3                            Wankhede Stadium               Mumbai Indians   \n",
              "4                                Eden Gardens        Kolkata Knight Riders   \n",
              "\n",
              "                         team2                  toss_winner toss_decision  \\\n",
              "0        Kolkata Knight Riders  Royal Challengers Bangalore         field   \n",
              "1          Chennai Super Kings          Chennai Super Kings           bat   \n",
              "2             Rajasthan Royals             Rajasthan Royals           bat   \n",
              "3  Royal Challengers Bangalore               Mumbai Indians           bat   \n",
              "4              Deccan Chargers              Deccan Chargers           bat   \n",
              "\n",
              "  player_of_match                       winner  winner_wickets  winner_runs  \\\n",
              "0     BB McCullum        Kolkata Knight Riders               0          140   \n",
              "1      MEK Hussey          Chennai Super Kings               0           33   \n",
              "2     MF Maharoof             Delhi Daredevils               9            0   \n",
              "3      MV Boucher  Royal Challengers Bangalore               5            0   \n",
              "4       DJ Hussey        Kolkata Knight Riders               5            0   \n",
              "\n",
              "  outcome result_type  results gender                  event  match_number  \\\n",
              "0     NaN    defended      140   male  Indian Premier League           1.0   \n",
              "1     NaN    defended       33   male  Indian Premier League           2.0   \n",
              "2     NaN      chased        9   male  Indian Premier League           3.0   \n",
              "3     NaN      chased        5   male  Indian Premier League           5.0   \n",
              "4     NaN      chased        5   male  Indian Premier League           4.0   \n",
              "\n",
              "     umpire1         umpire2 reserve_umpire       tv_umpire  \\\n",
              "0  Asad Rauf     RE Koertzen    VN Kulkarni       AM Saheba   \n",
              "1  MR Benson      SL Shastri    MSS Ranawat       RB Tiffin   \n",
              "2  Aleem Dar  GA Pratapkumar            NaN       IL Howell   \n",
              "3   SJ Davis       DJ Harper    SN Bandekar  AV Jayaprakash   \n",
              "4  BF Bowden     K Hariharan        F Gomes       Asad Rauf   \n",
              "\n",
              "       match_referee eliminator method date_1  \n",
              "0          J Srinath        NaN    NaN    NaN  \n",
              "1  S Venkataraghavan        NaN    NaN    NaN  \n",
              "2       GR Viswanath        NaN    NaN    NaN  \n",
              "3          J Srinath        NaN    NaN    NaN  \n",
              "4        FM Engineer        NaN    NaN    NaN  "
            ],
            "text/html": [
              "\n",
              "  <div id=\"df-c700898b-c2f6-472e-a274-227d6f858001\">\n",
              "    <div class=\"colab-df-container\">\n",
              "      <div>\n",
              "<style scoped>\n",
              "    .dataframe tbody tr th:only-of-type {\n",
              "        vertical-align: middle;\n",
              "    }\n",
              "\n",
              "    .dataframe tbody tr th {\n",
              "        vertical-align: top;\n",
              "    }\n",
              "\n",
              "    .dataframe thead th {\n",
              "        text-align: right;\n",
              "    }\n",
              "</style>\n",
              "<table border=\"1\" class=\"dataframe\">\n",
              "  <thead>\n",
              "    <tr style=\"text-align: right;\">\n",
              "      <th></th>\n",
              "      <th>match_id</th>\n",
              "      <th>season</th>\n",
              "      <th>date</th>\n",
              "      <th>city</th>\n",
              "      <th>venue</th>\n",
              "      <th>team1</th>\n",
              "      <th>team2</th>\n",
              "      <th>toss_winner</th>\n",
              "      <th>toss_decision</th>\n",
              "      <th>player_of_match</th>\n",
              "      <th>winner</th>\n",
              "      <th>winner_wickets</th>\n",
              "      <th>winner_runs</th>\n",
              "      <th>outcome</th>\n",
              "      <th>result_type</th>\n",
              "      <th>results</th>\n",
              "      <th>gender</th>\n",
              "      <th>event</th>\n",
              "      <th>match_number</th>\n",
              "      <th>umpire1</th>\n",
              "      <th>umpire2</th>\n",
              "      <th>reserve_umpire</th>\n",
              "      <th>tv_umpire</th>\n",
              "      <th>match_referee</th>\n",
              "      <th>eliminator</th>\n",
              "      <th>method</th>\n",
              "      <th>date_1</th>\n",
              "    </tr>\n",
              "  </thead>\n",
              "  <tbody>\n",
              "    <tr>\n",
              "      <th>0</th>\n",
              "      <td>335982</td>\n",
              "      <td>2007/08</td>\n",
              "      <td>2008-04-18</td>\n",
              "      <td>Bangalore</td>\n",
              "      <td>M Chinnaswamy Stadium</td>\n",
              "      <td>Royal Challengers Bangalore</td>\n",
              "      <td>Kolkata Knight Riders</td>\n",
              "      <td>Royal Challengers Bangalore</td>\n",
              "      <td>field</td>\n",
              "      <td>BB McCullum</td>\n",
              "      <td>Kolkata Knight Riders</td>\n",
              "      <td>0</td>\n",
              "      <td>140</td>\n",
              "      <td>NaN</td>\n",
              "      <td>defended</td>\n",
              "      <td>140</td>\n",
              "      <td>male</td>\n",
              "      <td>Indian Premier League</td>\n",
              "      <td>1.0</td>\n",
              "      <td>Asad Rauf</td>\n",
              "      <td>RE Koertzen</td>\n",
              "      <td>VN Kulkarni</td>\n",
              "      <td>AM Saheba</td>\n",
              "      <td>J Srinath</td>\n",
              "      <td>NaN</td>\n",
              "      <td>NaN</td>\n",
              "      <td>NaN</td>\n",
              "    </tr>\n",
              "    <tr>\n",
              "      <th>1</th>\n",
              "      <td>335983</td>\n",
              "      <td>2007/08</td>\n",
              "      <td>2008-04-19</td>\n",
              "      <td>Chandigarh</td>\n",
              "      <td>Punjab Cricket Association Stadium, Mohali</td>\n",
              "      <td>Kings XI Punjab</td>\n",
              "      <td>Chennai Super Kings</td>\n",
              "      <td>Chennai Super Kings</td>\n",
              "      <td>bat</td>\n",
              "      <td>MEK Hussey</td>\n",
              "      <td>Chennai Super Kings</td>\n",
              "      <td>0</td>\n",
              "      <td>33</td>\n",
              "      <td>NaN</td>\n",
              "      <td>defended</td>\n",
              "      <td>33</td>\n",
              "      <td>male</td>\n",
              "      <td>Indian Premier League</td>\n",
              "      <td>2.0</td>\n",
              "      <td>MR Benson</td>\n",
              "      <td>SL Shastri</td>\n",
              "      <td>MSS Ranawat</td>\n",
              "      <td>RB Tiffin</td>\n",
              "      <td>S Venkataraghavan</td>\n",
              "      <td>NaN</td>\n",
              "      <td>NaN</td>\n",
              "      <td>NaN</td>\n",
              "    </tr>\n",
              "    <tr>\n",
              "      <th>2</th>\n",
              "      <td>335984</td>\n",
              "      <td>2007/08</td>\n",
              "      <td>2008-04-19</td>\n",
              "      <td>Delhi</td>\n",
              "      <td>Feroz Shah Kotla</td>\n",
              "      <td>Delhi Daredevils</td>\n",
              "      <td>Rajasthan Royals</td>\n",
              "      <td>Rajasthan Royals</td>\n",
              "      <td>bat</td>\n",
              "      <td>MF Maharoof</td>\n",
              "      <td>Delhi Daredevils</td>\n",
              "      <td>9</td>\n",
              "      <td>0</td>\n",
              "      <td>NaN</td>\n",
              "      <td>chased</td>\n",
              "      <td>9</td>\n",
              "      <td>male</td>\n",
              "      <td>Indian Premier League</td>\n",
              "      <td>3.0</td>\n",
              "      <td>Aleem Dar</td>\n",
              "      <td>GA Pratapkumar</td>\n",
              "      <td>NaN</td>\n",
              "      <td>IL Howell</td>\n",
              "      <td>GR Viswanath</td>\n",
              "      <td>NaN</td>\n",
              "      <td>NaN</td>\n",
              "      <td>NaN</td>\n",
              "    </tr>\n",
              "    <tr>\n",
              "      <th>3</th>\n",
              "      <td>335985</td>\n",
              "      <td>2007/08</td>\n",
              "      <td>2008-04-20</td>\n",
              "      <td>Mumbai</td>\n",
              "      <td>Wankhede Stadium</td>\n",
              "      <td>Mumbai Indians</td>\n",
              "      <td>Royal Challengers Bangalore</td>\n",
              "      <td>Mumbai Indians</td>\n",
              "      <td>bat</td>\n",
              "      <td>MV Boucher</td>\n",
              "      <td>Royal Challengers Bangalore</td>\n",
              "      <td>5</td>\n",
              "      <td>0</td>\n",
              "      <td>NaN</td>\n",
              "      <td>chased</td>\n",
              "      <td>5</td>\n",
              "      <td>male</td>\n",
              "      <td>Indian Premier League</td>\n",
              "      <td>5.0</td>\n",
              "      <td>SJ Davis</td>\n",
              "      <td>DJ Harper</td>\n",
              "      <td>SN Bandekar</td>\n",
              "      <td>AV Jayaprakash</td>\n",
              "      <td>J Srinath</td>\n",
              "      <td>NaN</td>\n",
              "      <td>NaN</td>\n",
              "      <td>NaN</td>\n",
              "    </tr>\n",
              "    <tr>\n",
              "      <th>4</th>\n",
              "      <td>335986</td>\n",
              "      <td>2007/08</td>\n",
              "      <td>2008-04-20</td>\n",
              "      <td>Kolkata</td>\n",
              "      <td>Eden Gardens</td>\n",
              "      <td>Kolkata Knight Riders</td>\n",
              "      <td>Deccan Chargers</td>\n",
              "      <td>Deccan Chargers</td>\n",
              "      <td>bat</td>\n",
              "      <td>DJ Hussey</td>\n",
              "      <td>Kolkata Knight Riders</td>\n",
              "      <td>5</td>\n",
              "      <td>0</td>\n",
              "      <td>NaN</td>\n",
              "      <td>chased</td>\n",
              "      <td>5</td>\n",
              "      <td>male</td>\n",
              "      <td>Indian Premier League</td>\n",
              "      <td>4.0</td>\n",
              "      <td>BF Bowden</td>\n",
              "      <td>K Hariharan</td>\n",
              "      <td>F Gomes</td>\n",
              "      <td>Asad Rauf</td>\n",
              "      <td>FM Engineer</td>\n",
              "      <td>NaN</td>\n",
              "      <td>NaN</td>\n",
              "      <td>NaN</td>\n",
              "    </tr>\n",
              "  </tbody>\n",
              "</table>\n",
              "</div>\n",
              "      <button class=\"colab-df-convert\" onclick=\"convertToInteractive('df-c700898b-c2f6-472e-a274-227d6f858001')\"\n",
              "              title=\"Convert this dataframe to an interactive table.\"\n",
              "              style=\"display:none;\">\n",
              "        \n",
              "  <svg xmlns=\"http://www.w3.org/2000/svg\" height=\"24px\"viewBox=\"0 0 24 24\"\n",
              "       width=\"24px\">\n",
              "    <path d=\"M0 0h24v24H0V0z\" fill=\"none\"/>\n",
              "    <path d=\"M18.56 5.44l.94 2.06.94-2.06 2.06-.94-2.06-.94-.94-2.06-.94 2.06-2.06.94zm-11 1L8.5 8.5l.94-2.06 2.06-.94-2.06-.94L8.5 2.5l-.94 2.06-2.06.94zm10 10l.94 2.06.94-2.06 2.06-.94-2.06-.94-.94-2.06-.94 2.06-2.06.94z\"/><path d=\"M17.41 7.96l-1.37-1.37c-.4-.4-.92-.59-1.43-.59-.52 0-1.04.2-1.43.59L10.3 9.45l-7.72 7.72c-.78.78-.78 2.05 0 2.83L4 21.41c.39.39.9.59 1.41.59.51 0 1.02-.2 1.41-.59l7.78-7.78 2.81-2.81c.8-.78.8-2.07 0-2.86zM5.41 20L4 18.59l7.72-7.72 1.47 1.35L5.41 20z\"/>\n",
              "  </svg>\n",
              "      </button>\n",
              "      \n",
              "  <style>\n",
              "    .colab-df-container {\n",
              "      display:flex;\n",
              "      flex-wrap:wrap;\n",
              "      gap: 12px;\n",
              "    }\n",
              "\n",
              "    .colab-df-convert {\n",
              "      background-color: #E8F0FE;\n",
              "      border: none;\n",
              "      border-radius: 50%;\n",
              "      cursor: pointer;\n",
              "      display: none;\n",
              "      fill: #1967D2;\n",
              "      height: 32px;\n",
              "      padding: 0 0 0 0;\n",
              "      width: 32px;\n",
              "    }\n",
              "\n",
              "    .colab-df-convert:hover {\n",
              "      background-color: #E2EBFA;\n",
              "      box-shadow: 0px 1px 2px rgba(60, 64, 67, 0.3), 0px 1px 3px 1px rgba(60, 64, 67, 0.15);\n",
              "      fill: #174EA6;\n",
              "    }\n",
              "\n",
              "    [theme=dark] .colab-df-convert {\n",
              "      background-color: #3B4455;\n",
              "      fill: #D2E3FC;\n",
              "    }\n",
              "\n",
              "    [theme=dark] .colab-df-convert:hover {\n",
              "      background-color: #434B5C;\n",
              "      box-shadow: 0px 1px 3px 1px rgba(0, 0, 0, 0.15);\n",
              "      filter: drop-shadow(0px 1px 2px rgba(0, 0, 0, 0.3));\n",
              "      fill: #FFFFFF;\n",
              "    }\n",
              "  </style>\n",
              "\n",
              "      <script>\n",
              "        const buttonEl =\n",
              "          document.querySelector('#df-c700898b-c2f6-472e-a274-227d6f858001 button.colab-df-convert');\n",
              "        buttonEl.style.display =\n",
              "          google.colab.kernel.accessAllowed ? 'block' : 'none';\n",
              "\n",
              "        async function convertToInteractive(key) {\n",
              "          const element = document.querySelector('#df-c700898b-c2f6-472e-a274-227d6f858001');\n",
              "          const dataTable =\n",
              "            await google.colab.kernel.invokeFunction('convertToInteractive',\n",
              "                                                     [key], {});\n",
              "          if (!dataTable) return;\n",
              "\n",
              "          const docLinkHtml = 'Like what you see? Visit the ' +\n",
              "            '<a target=\"_blank\" href=https://colab.research.google.com/notebooks/data_table.ipynb>data table notebook</a>'\n",
              "            + ' to learn more about interactive tables.';\n",
              "          element.innerHTML = '';\n",
              "          dataTable['output_type'] = 'display_data';\n",
              "          await google.colab.output.renderOutput(dataTable, element);\n",
              "          const docLink = document.createElement('div');\n",
              "          docLink.innerHTML = docLinkHtml;\n",
              "          element.appendChild(docLink);\n",
              "        }\n",
              "      </script>\n",
              "    </div>\n",
              "  </div>\n",
              "  "
            ]
          },
          "metadata": {},
          "execution_count": 109
        }
      ]
    },
    {
      "cell_type": "markdown",
      "source": [
        "to read ball data"
      ],
      "metadata": {
        "id": "FTge9vYOGBSf"
      }
    },
    {
      "cell_type": "code",
      "source": [
        "ball_data=pd.read_csv(\"/content/sample_data/ipl_match_ball_by_ball_data.csv\")\n",
        "ball_data.head()"
      ],
      "metadata": {
        "colab": {
          "base_uri": "https://localhost:8080/",
          "height": 479
        },
        "id": "2dx0N8PCALcO",
        "outputId": "9a310f76-4c9f-474d-c5ba-2e5e1d23826b"
      },
      "execution_count": 110,
      "outputs": [
        {
          "output_type": "stream",
          "name": "stderr",
          "text": [
            "/usr/local/lib/python3.7/dist-packages/IPython/core/interactiveshell.py:2882: DtypeWarning: Columns (1) have mixed types.Specify dtype option on import or set low_memory=False.\n",
            "  exec(code_obj, self.user_global_ns, self.user_ns)\n"
          ]
        },
        {
          "output_type": "execute_result",
          "data": {
            "text/plain": [
              "   match_id   season  start_date                  venue  innings  ball  \\\n",
              "0    335982  2007/08  2008-04-18  M Chinnaswamy Stadium        1   0.1   \n",
              "1    335982  2007/08  2008-04-18  M Chinnaswamy Stadium        1   0.2   \n",
              "2    335982  2007/08  2008-04-18  M Chinnaswamy Stadium        1   0.3   \n",
              "3    335982  2007/08  2008-04-18  M Chinnaswamy Stadium        1   0.4   \n",
              "4    335982  2007/08  2008-04-18  M Chinnaswamy Stadium        1   0.5   \n",
              "\n",
              "            batting_team                 bowling_team      striker  \\\n",
              "0  Kolkata Knight Riders  Royal Challengers Bangalore   SC Ganguly   \n",
              "1  Kolkata Knight Riders  Royal Challengers Bangalore  BB McCullum   \n",
              "2  Kolkata Knight Riders  Royal Challengers Bangalore  BB McCullum   \n",
              "3  Kolkata Knight Riders  Royal Challengers Bangalore  BB McCullum   \n",
              "4  Kolkata Knight Riders  Royal Challengers Bangalore  BB McCullum   \n",
              "\n",
              "   non_striker   bowler  runs_off_bat  extras  wides  noballs  byes  legbyes  \\\n",
              "0  BB McCullum  P Kumar             0       1    NaN      NaN   NaN      1.0   \n",
              "1   SC Ganguly  P Kumar             0       0    NaN      NaN   NaN      NaN   \n",
              "2   SC Ganguly  P Kumar             0       1    1.0      NaN   NaN      NaN   \n",
              "3   SC Ganguly  P Kumar             0       0    NaN      NaN   NaN      NaN   \n",
              "4   SC Ganguly  P Kumar             0       0    NaN      NaN   NaN      NaN   \n",
              "\n",
              "   penalty wicket_type player_dismissed  other_wicket_type  \\\n",
              "0      NaN         NaN              NaN                NaN   \n",
              "1      NaN         NaN              NaN                NaN   \n",
              "2      NaN         NaN              NaN                NaN   \n",
              "3      NaN         NaN              NaN                NaN   \n",
              "4      NaN         NaN              NaN                NaN   \n",
              "\n",
              "   other_player_dismissed  \n",
              "0                     NaN  \n",
              "1                     NaN  \n",
              "2                     NaN  \n",
              "3                     NaN  \n",
              "4                     NaN  "
            ],
            "text/html": [
              "\n",
              "  <div id=\"df-d93ee7fd-3d73-4f79-88c5-3e240d826ece\">\n",
              "    <div class=\"colab-df-container\">\n",
              "      <div>\n",
              "<style scoped>\n",
              "    .dataframe tbody tr th:only-of-type {\n",
              "        vertical-align: middle;\n",
              "    }\n",
              "\n",
              "    .dataframe tbody tr th {\n",
              "        vertical-align: top;\n",
              "    }\n",
              "\n",
              "    .dataframe thead th {\n",
              "        text-align: right;\n",
              "    }\n",
              "</style>\n",
              "<table border=\"1\" class=\"dataframe\">\n",
              "  <thead>\n",
              "    <tr style=\"text-align: right;\">\n",
              "      <th></th>\n",
              "      <th>match_id</th>\n",
              "      <th>season</th>\n",
              "      <th>start_date</th>\n",
              "      <th>venue</th>\n",
              "      <th>innings</th>\n",
              "      <th>ball</th>\n",
              "      <th>batting_team</th>\n",
              "      <th>bowling_team</th>\n",
              "      <th>striker</th>\n",
              "      <th>non_striker</th>\n",
              "      <th>bowler</th>\n",
              "      <th>runs_off_bat</th>\n",
              "      <th>extras</th>\n",
              "      <th>wides</th>\n",
              "      <th>noballs</th>\n",
              "      <th>byes</th>\n",
              "      <th>legbyes</th>\n",
              "      <th>penalty</th>\n",
              "      <th>wicket_type</th>\n",
              "      <th>player_dismissed</th>\n",
              "      <th>other_wicket_type</th>\n",
              "      <th>other_player_dismissed</th>\n",
              "    </tr>\n",
              "  </thead>\n",
              "  <tbody>\n",
              "    <tr>\n",
              "      <th>0</th>\n",
              "      <td>335982</td>\n",
              "      <td>2007/08</td>\n",
              "      <td>2008-04-18</td>\n",
              "      <td>M Chinnaswamy Stadium</td>\n",
              "      <td>1</td>\n",
              "      <td>0.1</td>\n",
              "      <td>Kolkata Knight Riders</td>\n",
              "      <td>Royal Challengers Bangalore</td>\n",
              "      <td>SC Ganguly</td>\n",
              "      <td>BB McCullum</td>\n",
              "      <td>P Kumar</td>\n",
              "      <td>0</td>\n",
              "      <td>1</td>\n",
              "      <td>NaN</td>\n",
              "      <td>NaN</td>\n",
              "      <td>NaN</td>\n",
              "      <td>1.0</td>\n",
              "      <td>NaN</td>\n",
              "      <td>NaN</td>\n",
              "      <td>NaN</td>\n",
              "      <td>NaN</td>\n",
              "      <td>NaN</td>\n",
              "    </tr>\n",
              "    <tr>\n",
              "      <th>1</th>\n",
              "      <td>335982</td>\n",
              "      <td>2007/08</td>\n",
              "      <td>2008-04-18</td>\n",
              "      <td>M Chinnaswamy Stadium</td>\n",
              "      <td>1</td>\n",
              "      <td>0.2</td>\n",
              "      <td>Kolkata Knight Riders</td>\n",
              "      <td>Royal Challengers Bangalore</td>\n",
              "      <td>BB McCullum</td>\n",
              "      <td>SC Ganguly</td>\n",
              "      <td>P Kumar</td>\n",
              "      <td>0</td>\n",
              "      <td>0</td>\n",
              "      <td>NaN</td>\n",
              "      <td>NaN</td>\n",
              "      <td>NaN</td>\n",
              "      <td>NaN</td>\n",
              "      <td>NaN</td>\n",
              "      <td>NaN</td>\n",
              "      <td>NaN</td>\n",
              "      <td>NaN</td>\n",
              "      <td>NaN</td>\n",
              "    </tr>\n",
              "    <tr>\n",
              "      <th>2</th>\n",
              "      <td>335982</td>\n",
              "      <td>2007/08</td>\n",
              "      <td>2008-04-18</td>\n",
              "      <td>M Chinnaswamy Stadium</td>\n",
              "      <td>1</td>\n",
              "      <td>0.3</td>\n",
              "      <td>Kolkata Knight Riders</td>\n",
              "      <td>Royal Challengers Bangalore</td>\n",
              "      <td>BB McCullum</td>\n",
              "      <td>SC Ganguly</td>\n",
              "      <td>P Kumar</td>\n",
              "      <td>0</td>\n",
              "      <td>1</td>\n",
              "      <td>1.0</td>\n",
              "      <td>NaN</td>\n",
              "      <td>NaN</td>\n",
              "      <td>NaN</td>\n",
              "      <td>NaN</td>\n",
              "      <td>NaN</td>\n",
              "      <td>NaN</td>\n",
              "      <td>NaN</td>\n",
              "      <td>NaN</td>\n",
              "    </tr>\n",
              "    <tr>\n",
              "      <th>3</th>\n",
              "      <td>335982</td>\n",
              "      <td>2007/08</td>\n",
              "      <td>2008-04-18</td>\n",
              "      <td>M Chinnaswamy Stadium</td>\n",
              "      <td>1</td>\n",
              "      <td>0.4</td>\n",
              "      <td>Kolkata Knight Riders</td>\n",
              "      <td>Royal Challengers Bangalore</td>\n",
              "      <td>BB McCullum</td>\n",
              "      <td>SC Ganguly</td>\n",
              "      <td>P Kumar</td>\n",
              "      <td>0</td>\n",
              "      <td>0</td>\n",
              "      <td>NaN</td>\n",
              "      <td>NaN</td>\n",
              "      <td>NaN</td>\n",
              "      <td>NaN</td>\n",
              "      <td>NaN</td>\n",
              "      <td>NaN</td>\n",
              "      <td>NaN</td>\n",
              "      <td>NaN</td>\n",
              "      <td>NaN</td>\n",
              "    </tr>\n",
              "    <tr>\n",
              "      <th>4</th>\n",
              "      <td>335982</td>\n",
              "      <td>2007/08</td>\n",
              "      <td>2008-04-18</td>\n",
              "      <td>M Chinnaswamy Stadium</td>\n",
              "      <td>1</td>\n",
              "      <td>0.5</td>\n",
              "      <td>Kolkata Knight Riders</td>\n",
              "      <td>Royal Challengers Bangalore</td>\n",
              "      <td>BB McCullum</td>\n",
              "      <td>SC Ganguly</td>\n",
              "      <td>P Kumar</td>\n",
              "      <td>0</td>\n",
              "      <td>0</td>\n",
              "      <td>NaN</td>\n",
              "      <td>NaN</td>\n",
              "      <td>NaN</td>\n",
              "      <td>NaN</td>\n",
              "      <td>NaN</td>\n",
              "      <td>NaN</td>\n",
              "      <td>NaN</td>\n",
              "      <td>NaN</td>\n",
              "      <td>NaN</td>\n",
              "    </tr>\n",
              "  </tbody>\n",
              "</table>\n",
              "</div>\n",
              "      <button class=\"colab-df-convert\" onclick=\"convertToInteractive('df-d93ee7fd-3d73-4f79-88c5-3e240d826ece')\"\n",
              "              title=\"Convert this dataframe to an interactive table.\"\n",
              "              style=\"display:none;\">\n",
              "        \n",
              "  <svg xmlns=\"http://www.w3.org/2000/svg\" height=\"24px\"viewBox=\"0 0 24 24\"\n",
              "       width=\"24px\">\n",
              "    <path d=\"M0 0h24v24H0V0z\" fill=\"none\"/>\n",
              "    <path d=\"M18.56 5.44l.94 2.06.94-2.06 2.06-.94-2.06-.94-.94-2.06-.94 2.06-2.06.94zm-11 1L8.5 8.5l.94-2.06 2.06-.94-2.06-.94L8.5 2.5l-.94 2.06-2.06.94zm10 10l.94 2.06.94-2.06 2.06-.94-2.06-.94-.94-2.06-.94 2.06-2.06.94z\"/><path d=\"M17.41 7.96l-1.37-1.37c-.4-.4-.92-.59-1.43-.59-.52 0-1.04.2-1.43.59L10.3 9.45l-7.72 7.72c-.78.78-.78 2.05 0 2.83L4 21.41c.39.39.9.59 1.41.59.51 0 1.02-.2 1.41-.59l7.78-7.78 2.81-2.81c.8-.78.8-2.07 0-2.86zM5.41 20L4 18.59l7.72-7.72 1.47 1.35L5.41 20z\"/>\n",
              "  </svg>\n",
              "      </button>\n",
              "      \n",
              "  <style>\n",
              "    .colab-df-container {\n",
              "      display:flex;\n",
              "      flex-wrap:wrap;\n",
              "      gap: 12px;\n",
              "    }\n",
              "\n",
              "    .colab-df-convert {\n",
              "      background-color: #E8F0FE;\n",
              "      border: none;\n",
              "      border-radius: 50%;\n",
              "      cursor: pointer;\n",
              "      display: none;\n",
              "      fill: #1967D2;\n",
              "      height: 32px;\n",
              "      padding: 0 0 0 0;\n",
              "      width: 32px;\n",
              "    }\n",
              "\n",
              "    .colab-df-convert:hover {\n",
              "      background-color: #E2EBFA;\n",
              "      box-shadow: 0px 1px 2px rgba(60, 64, 67, 0.3), 0px 1px 3px 1px rgba(60, 64, 67, 0.15);\n",
              "      fill: #174EA6;\n",
              "    }\n",
              "\n",
              "    [theme=dark] .colab-df-convert {\n",
              "      background-color: #3B4455;\n",
              "      fill: #D2E3FC;\n",
              "    }\n",
              "\n",
              "    [theme=dark] .colab-df-convert:hover {\n",
              "      background-color: #434B5C;\n",
              "      box-shadow: 0px 1px 3px 1px rgba(0, 0, 0, 0.15);\n",
              "      filter: drop-shadow(0px 1px 2px rgba(0, 0, 0, 0.3));\n",
              "      fill: #FFFFFF;\n",
              "    }\n",
              "  </style>\n",
              "\n",
              "      <script>\n",
              "        const buttonEl =\n",
              "          document.querySelector('#df-d93ee7fd-3d73-4f79-88c5-3e240d826ece button.colab-df-convert');\n",
              "        buttonEl.style.display =\n",
              "          google.colab.kernel.accessAllowed ? 'block' : 'none';\n",
              "\n",
              "        async function convertToInteractive(key) {\n",
              "          const element = document.querySelector('#df-d93ee7fd-3d73-4f79-88c5-3e240d826ece');\n",
              "          const dataTable =\n",
              "            await google.colab.kernel.invokeFunction('convertToInteractive',\n",
              "                                                     [key], {});\n",
              "          if (!dataTable) return;\n",
              "\n",
              "          const docLinkHtml = 'Like what you see? Visit the ' +\n",
              "            '<a target=\"_blank\" href=https://colab.research.google.com/notebooks/data_table.ipynb>data table notebook</a>'\n",
              "            + ' to learn more about interactive tables.';\n",
              "          element.innerHTML = '';\n",
              "          dataTable['output_type'] = 'display_data';\n",
              "          await google.colab.output.renderOutput(dataTable, element);\n",
              "          const docLink = document.createElement('div');\n",
              "          docLink.innerHTML = docLinkHtml;\n",
              "          element.appendChild(docLink);\n",
              "        }\n",
              "      </script>\n",
              "    </div>\n",
              "  </div>\n",
              "  "
            ]
          },
          "metadata": {},
          "execution_count": 110
        }
      ]
    },
    {
      "cell_type": "markdown",
      "source": [
        "to find null values in each column"
      ],
      "metadata": {
        "id": "7naKakz-GFU_"
      }
    },
    {
      "cell_type": "code",
      "source": [
        "match_data.isnull().sum()"
      ],
      "metadata": {
        "colab": {
          "base_uri": "https://localhost:8080/"
        },
        "id": "Gk-LJypoEri_",
        "outputId": "77fc0bb4-7beb-4322-8dc5-cd9e2c7317d5"
      },
      "execution_count": 111,
      "outputs": [
        {
          "output_type": "execute_result",
          "data": {
            "text/plain": [
              "match_id             0\n",
              "season               0\n",
              "date                 0\n",
              "city                51\n",
              "venue                0\n",
              "team1                0\n",
              "team2                0\n",
              "toss_winner          0\n",
              "toss_decision        0\n",
              "player_of_match      4\n",
              "winner              18\n",
              "winner_wickets       0\n",
              "winner_runs          0\n",
              "outcome            932\n",
              "result_type          0\n",
              "results              0\n",
              "gender               0\n",
              "event                0\n",
              "match_number        58\n",
              "umpire1              0\n",
              "umpire2              0\n",
              "reserve_umpire      24\n",
              "tv_umpire            3\n",
              "match_referee        0\n",
              "eliminator         936\n",
              "method             931\n",
              "date_1             948\n",
              "dtype: int64"
            ]
          },
          "metadata": {},
          "execution_count": 111
        }
      ]
    },
    {
      "cell_type": "code",
      "source": [
        "ball_data.isnull().sum()"
      ],
      "metadata": {
        "colab": {
          "base_uri": "https://localhost:8080/"
        },
        "id": "oHfjFtEPFB_V",
        "outputId": "8f7dcd65-750e-48f2-b740-a1c865278715"
      },
      "execution_count": 112,
      "outputs": [
        {
          "output_type": "execute_result",
          "data": {
            "text/plain": [
              "match_id                       0\n",
              "season                         0\n",
              "start_date                     0\n",
              "venue                          0\n",
              "innings                        0\n",
              "ball                           0\n",
              "batting_team                   0\n",
              "bowling_team                   0\n",
              "striker                        0\n",
              "non_striker                    0\n",
              "bowler                         0\n",
              "runs_off_bat                   0\n",
              "extras                         0\n",
              "wides                     218928\n",
              "noballs                   225036\n",
              "byes                      225371\n",
              "legbyes                   222423\n",
              "penalty                   225952\n",
              "wicket_type               214803\n",
              "player_dismissed          214803\n",
              "other_wicket_type         225954\n",
              "other_player_dismissed    225954\n",
              "dtype: int64"
            ]
          },
          "metadata": {},
          "execution_count": 112
        }
      ]
    },
    {
      "cell_type": "markdown",
      "source": [
        "to find shape of match and ball dataset"
      ],
      "metadata": {
        "id": "TBG8_L8UGMBp"
      }
    },
    {
      "cell_type": "code",
      "source": [
        "match_data.shape"
      ],
      "metadata": {
        "colab": {
          "base_uri": "https://localhost:8080/"
        },
        "id": "Du_LCweiErnD",
        "outputId": "33d86dae-57bb-4fbc-df40-00aded072667"
      },
      "execution_count": 113,
      "outputs": [
        {
          "output_type": "execute_result",
          "data": {
            "text/plain": [
              "(950, 27)"
            ]
          },
          "metadata": {},
          "execution_count": 113
        }
      ]
    },
    {
      "cell_type": "code",
      "source": [
        "ball_data.shape"
      ],
      "metadata": {
        "colab": {
          "base_uri": "https://localhost:8080/"
        },
        "id": "ULAYg-bGErrM",
        "outputId": "a92ae593-8186-4ddb-a856-6e485ae245cb"
      },
      "execution_count": 114,
      "outputs": [
        {
          "output_type": "execute_result",
          "data": {
            "text/plain": [
              "(225954, 22)"
            ]
          },
          "metadata": {},
          "execution_count": 114
        }
      ]
    },
    {
      "cell_type": "code",
      "source": [
        "match_data.columns"
      ],
      "metadata": {
        "colab": {
          "base_uri": "https://localhost:8080/"
        },
        "id": "7Y3N0E-UEruL",
        "outputId": "8067a9e5-e1b8-4686-a89b-8cc3fffc9bab"
      },
      "execution_count": 115,
      "outputs": [
        {
          "output_type": "execute_result",
          "data": {
            "text/plain": [
              "Index(['match_id', 'season', 'date', 'city', 'venue', 'team1', 'team2',\n",
              "       'toss_winner', 'toss_decision', 'player_of_match', 'winner',\n",
              "       'winner_wickets', 'winner_runs', 'outcome', 'result_type', 'results',\n",
              "       'gender', 'event', 'match_number', 'umpire1', 'umpire2',\n",
              "       'reserve_umpire', 'tv_umpire', 'match_referee', 'eliminator', 'method',\n",
              "       'date_1'],\n",
              "      dtype='object')"
            ]
          },
          "metadata": {},
          "execution_count": 115
        }
      ]
    },
    {
      "cell_type": "code",
      "source": [
        "ball_data.shape"
      ],
      "metadata": {
        "colab": {
          "base_uri": "https://localhost:8080/"
        },
        "id": "8bR0GkLcFZxe",
        "outputId": "6844cfcc-ca69-4f66-f26f-988858d9ecf0"
      },
      "execution_count": 116,
      "outputs": [
        {
          "output_type": "execute_result",
          "data": {
            "text/plain": [
              "(225954, 22)"
            ]
          },
          "metadata": {},
          "execution_count": 116
        }
      ]
    },
    {
      "cell_type": "code",
      "source": [
        "ball_data.columns"
      ],
      "metadata": {
        "colab": {
          "base_uri": "https://localhost:8080/"
        },
        "id": "V6SgxqD9FZ0A",
        "outputId": "9d0f6a2a-d6b7-44c8-cc67-b5ac301234f5"
      },
      "execution_count": 117,
      "outputs": [
        {
          "output_type": "execute_result",
          "data": {
            "text/plain": [
              "Index(['match_id', 'season', 'start_date', 'venue', 'innings', 'ball',\n",
              "       'batting_team', 'bowling_team', 'striker', 'non_striker', 'bowler',\n",
              "       'runs_off_bat', 'extras', 'wides', 'noballs', 'byes', 'legbyes',\n",
              "       'penalty', 'wicket_type', 'player_dismissed', 'other_wicket_type',\n",
              "       'other_player_dismissed'],\n",
              "      dtype='object')"
            ]
          },
          "metadata": {},
          "execution_count": 117
        }
      ]
    },
    {
      "cell_type": "markdown",
      "source": [
        "to find the total number of matches played so far"
      ],
      "metadata": {
        "id": "0VU1hLdmGlLc"
      }
    },
    {
      "cell_type": "code",
      "source": [
        "print(\"matches played so far:\",match_data.shape[0])\n",
        "print(\"/n cities:\",match_data[\"city\"].unique())\n",
        "print(\"/n teams:\",match_data[\"team1\"].unique())"
      ],
      "metadata": {
        "colab": {
          "base_uri": "https://localhost:8080/"
        },
        "id": "BlnFS6wlFZ2d",
        "outputId": "023520d9-4b80-4853-a9d3-36941df27c50"
      },
      "execution_count": 118,
      "outputs": [
        {
          "output_type": "stream",
          "name": "stdout",
          "text": [
            "matches played so far: 950\n",
            "/n cities: ['Bangalore' 'Chandigarh' 'Delhi' 'Mumbai' 'Kolkata' 'Jaipur' 'Hyderabad'\n",
            " 'Chennai' 'Cape Town' 'Port Elizabeth' 'Durban' 'Centurion' 'East London'\n",
            " 'Johannesburg' 'Kimberley' 'Bloemfontein' 'Ahmedabad' 'Cuttack' 'Nagpur'\n",
            " 'Dharamsala' 'Kochi' 'Indore' 'Visakhapatnam' 'Pune' 'Raipur' 'Ranchi'\n",
            " 'Abu Dhabi' nan 'Rajkot' 'Kanpur' 'Bengaluru' 'Sharjah' 'Dubai'\n",
            " 'Navi Mumbai']\n",
            "/n teams: ['Royal Challengers Bangalore' 'Kings XI Punjab' 'Delhi Daredevils'\n",
            " 'Mumbai Indians' 'Kolkata Knight Riders' 'Rajasthan Royals'\n",
            " 'Deccan Chargers' 'Chennai Super Kings' 'Kochi Tuskers Kerala'\n",
            " 'Pune Warriors' 'Sunrisers Hyderabad' 'Gujarat Lions'\n",
            " 'Rising Pune Supergiants' 'Rising Pune Supergiant' 'Delhi Capitals'\n",
            " 'Punjab Kings' 'Lucknow Super Giants' 'Gujarat Titans']\n"
          ]
        }
      ]
    },
    {
      "cell_type": "markdown",
      "source": [
        "to retrive year from date"
      ],
      "metadata": {
        "id": "dqs9dhCIIiXO"
      }
    },
    {
      "cell_type": "code",
      "source": [
        "match_data['season']=pd.DatetimeIndex(match_data['date']).year\n",
        "print(match_data['season'].unique())"
      ],
      "metadata": {
        "colab": {
          "base_uri": "https://localhost:8080/"
        },
        "id": "AMAdYH-eFZ41",
        "outputId": "3ad72400-1b4b-47fa-be26-37e3b6269497"
      },
      "execution_count": 119,
      "outputs": [
        {
          "output_type": "stream",
          "name": "stdout",
          "text": [
            "[2008 2009 2010 2011 2012 2013 2014 2015 2016 2017 2018 2019 2020 2021\n",
            " 2022]\n"
          ]
        }
      ]
    },
    {
      "cell_type": "markdown",
      "source": [
        "number of matches per season"
      ],
      "metadata": {
        "id": "h_g2mdbgJ9MJ"
      }
    },
    {
      "cell_type": "code",
      "source": [
        "matches_per_season = match_data.groupby(\"season\")[\"match_id\"].count().reset_index().rename(columns={\"match_id\":\"matches\"})\n",
        "matches_per_season"
      ],
      "metadata": {
        "colab": {
          "base_uri": "https://localhost:8080/",
          "height": 520
        },
        "id": "SK2OAyVMFZ7Z",
        "outputId": "d7bed4c1-044a-4696-87ce-d1158e166d14"
      },
      "execution_count": 120,
      "outputs": [
        {
          "output_type": "execute_result",
          "data": {
            "text/plain": [
              "    season  matches\n",
              "0     2008       58\n",
              "1     2009       57\n",
              "2     2010       60\n",
              "3     2011       73\n",
              "4     2012       74\n",
              "5     2013       76\n",
              "6     2014       60\n",
              "7     2015       59\n",
              "8     2016       60\n",
              "9     2017       59\n",
              "10    2018       60\n",
              "11    2019       60\n",
              "12    2020       60\n",
              "13    2021       60\n",
              "14    2022       74"
            ],
            "text/html": [
              "\n",
              "  <div id=\"df-7f52fd72-06c3-4e61-a06a-4bf36ec62779\">\n",
              "    <div class=\"colab-df-container\">\n",
              "      <div>\n",
              "<style scoped>\n",
              "    .dataframe tbody tr th:only-of-type {\n",
              "        vertical-align: middle;\n",
              "    }\n",
              "\n",
              "    .dataframe tbody tr th {\n",
              "        vertical-align: top;\n",
              "    }\n",
              "\n",
              "    .dataframe thead th {\n",
              "        text-align: right;\n",
              "    }\n",
              "</style>\n",
              "<table border=\"1\" class=\"dataframe\">\n",
              "  <thead>\n",
              "    <tr style=\"text-align: right;\">\n",
              "      <th></th>\n",
              "      <th>season</th>\n",
              "      <th>matches</th>\n",
              "    </tr>\n",
              "  </thead>\n",
              "  <tbody>\n",
              "    <tr>\n",
              "      <th>0</th>\n",
              "      <td>2008</td>\n",
              "      <td>58</td>\n",
              "    </tr>\n",
              "    <tr>\n",
              "      <th>1</th>\n",
              "      <td>2009</td>\n",
              "      <td>57</td>\n",
              "    </tr>\n",
              "    <tr>\n",
              "      <th>2</th>\n",
              "      <td>2010</td>\n",
              "      <td>60</td>\n",
              "    </tr>\n",
              "    <tr>\n",
              "      <th>3</th>\n",
              "      <td>2011</td>\n",
              "      <td>73</td>\n",
              "    </tr>\n",
              "    <tr>\n",
              "      <th>4</th>\n",
              "      <td>2012</td>\n",
              "      <td>74</td>\n",
              "    </tr>\n",
              "    <tr>\n",
              "      <th>5</th>\n",
              "      <td>2013</td>\n",
              "      <td>76</td>\n",
              "    </tr>\n",
              "    <tr>\n",
              "      <th>6</th>\n",
              "      <td>2014</td>\n",
              "      <td>60</td>\n",
              "    </tr>\n",
              "    <tr>\n",
              "      <th>7</th>\n",
              "      <td>2015</td>\n",
              "      <td>59</td>\n",
              "    </tr>\n",
              "    <tr>\n",
              "      <th>8</th>\n",
              "      <td>2016</td>\n",
              "      <td>60</td>\n",
              "    </tr>\n",
              "    <tr>\n",
              "      <th>9</th>\n",
              "      <td>2017</td>\n",
              "      <td>59</td>\n",
              "    </tr>\n",
              "    <tr>\n",
              "      <th>10</th>\n",
              "      <td>2018</td>\n",
              "      <td>60</td>\n",
              "    </tr>\n",
              "    <tr>\n",
              "      <th>11</th>\n",
              "      <td>2019</td>\n",
              "      <td>60</td>\n",
              "    </tr>\n",
              "    <tr>\n",
              "      <th>12</th>\n",
              "      <td>2020</td>\n",
              "      <td>60</td>\n",
              "    </tr>\n",
              "    <tr>\n",
              "      <th>13</th>\n",
              "      <td>2021</td>\n",
              "      <td>60</td>\n",
              "    </tr>\n",
              "    <tr>\n",
              "      <th>14</th>\n",
              "      <td>2022</td>\n",
              "      <td>74</td>\n",
              "    </tr>\n",
              "  </tbody>\n",
              "</table>\n",
              "</div>\n",
              "      <button class=\"colab-df-convert\" onclick=\"convertToInteractive('df-7f52fd72-06c3-4e61-a06a-4bf36ec62779')\"\n",
              "              title=\"Convert this dataframe to an interactive table.\"\n",
              "              style=\"display:none;\">\n",
              "        \n",
              "  <svg xmlns=\"http://www.w3.org/2000/svg\" height=\"24px\"viewBox=\"0 0 24 24\"\n",
              "       width=\"24px\">\n",
              "    <path d=\"M0 0h24v24H0V0z\" fill=\"none\"/>\n",
              "    <path d=\"M18.56 5.44l.94 2.06.94-2.06 2.06-.94-2.06-.94-.94-2.06-.94 2.06-2.06.94zm-11 1L8.5 8.5l.94-2.06 2.06-.94-2.06-.94L8.5 2.5l-.94 2.06-2.06.94zm10 10l.94 2.06.94-2.06 2.06-.94-2.06-.94-.94-2.06-.94 2.06-2.06.94z\"/><path d=\"M17.41 7.96l-1.37-1.37c-.4-.4-.92-.59-1.43-.59-.52 0-1.04.2-1.43.59L10.3 9.45l-7.72 7.72c-.78.78-.78 2.05 0 2.83L4 21.41c.39.39.9.59 1.41.59.51 0 1.02-.2 1.41-.59l7.78-7.78 2.81-2.81c.8-.78.8-2.07 0-2.86zM5.41 20L4 18.59l7.72-7.72 1.47 1.35L5.41 20z\"/>\n",
              "  </svg>\n",
              "      </button>\n",
              "      \n",
              "  <style>\n",
              "    .colab-df-container {\n",
              "      display:flex;\n",
              "      flex-wrap:wrap;\n",
              "      gap: 12px;\n",
              "    }\n",
              "\n",
              "    .colab-df-convert {\n",
              "      background-color: #E8F0FE;\n",
              "      border: none;\n",
              "      border-radius: 50%;\n",
              "      cursor: pointer;\n",
              "      display: none;\n",
              "      fill: #1967D2;\n",
              "      height: 32px;\n",
              "      padding: 0 0 0 0;\n",
              "      width: 32px;\n",
              "    }\n",
              "\n",
              "    .colab-df-convert:hover {\n",
              "      background-color: #E2EBFA;\n",
              "      box-shadow: 0px 1px 2px rgba(60, 64, 67, 0.3), 0px 1px 3px 1px rgba(60, 64, 67, 0.15);\n",
              "      fill: #174EA6;\n",
              "    }\n",
              "\n",
              "    [theme=dark] .colab-df-convert {\n",
              "      background-color: #3B4455;\n",
              "      fill: #D2E3FC;\n",
              "    }\n",
              "\n",
              "    [theme=dark] .colab-df-convert:hover {\n",
              "      background-color: #434B5C;\n",
              "      box-shadow: 0px 1px 3px 1px rgba(0, 0, 0, 0.15);\n",
              "      filter: drop-shadow(0px 1px 2px rgba(0, 0, 0, 0.3));\n",
              "      fill: #FFFFFF;\n",
              "    }\n",
              "  </style>\n",
              "\n",
              "      <script>\n",
              "        const buttonEl =\n",
              "          document.querySelector('#df-7f52fd72-06c3-4e61-a06a-4bf36ec62779 button.colab-df-convert');\n",
              "        buttonEl.style.display =\n",
              "          google.colab.kernel.accessAllowed ? 'block' : 'none';\n",
              "\n",
              "        async function convertToInteractive(key) {\n",
              "          const element = document.querySelector('#df-7f52fd72-06c3-4e61-a06a-4bf36ec62779');\n",
              "          const dataTable =\n",
              "            await google.colab.kernel.invokeFunction('convertToInteractive',\n",
              "                                                     [key], {});\n",
              "          if (!dataTable) return;\n",
              "\n",
              "          const docLinkHtml = 'Like what you see? Visit the ' +\n",
              "            '<a target=\"_blank\" href=https://colab.research.google.com/notebooks/data_table.ipynb>data table notebook</a>'\n",
              "            + ' to learn more about interactive tables.';\n",
              "          element.innerHTML = '';\n",
              "          dataTable['output_type'] = 'display_data';\n",
              "          await google.colab.output.renderOutput(dataTable, element);\n",
              "          const docLink = document.createElement('div');\n",
              "          docLink.innerHTML = docLinkHtml;\n",
              "          element.appendChild(docLink);\n",
              "        }\n",
              "      </script>\n",
              "    </div>\n",
              "  </div>\n",
              "  "
            ]
          },
          "metadata": {},
          "execution_count": 120
        }
      ]
    },
    {
      "cell_type": "markdown",
      "source": [
        "to plot bar graph of the number of matches per season"
      ],
      "metadata": {
        "id": "XTkcWnZHM7w1"
      }
    },
    {
      "cell_type": "code",
      "source": [
        "sns.countplot(x=\"season\",data=match_data)\n",
        "plt.xticks(rotation=45,fontsize=10)\n",
        "plt.yticks(fontsize=10)\n",
        "plt.xlabel(\"season\")\n",
        "plt.ylabel(\"number of matches\")\n",
        "plt.title(\"number of matches per season\",fontweight=\"bold\")"
      ],
      "metadata": {
        "colab": {
          "base_uri": "https://localhost:8080/",
          "height": 328
        },
        "id": "TtTE8LOEFZ9x",
        "outputId": "1812fb0a-e79e-4ddd-b1c8-6811b925cb8a"
      },
      "execution_count": 121,
      "outputs": [
        {
          "output_type": "execute_result",
          "data": {
            "text/plain": [
              "Text(0.5, 1.0, 'number of matches per season')"
            ]
          },
          "metadata": {},
          "execution_count": 121
        },
        {
          "output_type": "display_data",
          "data": {
            "text/plain": [
              "<Figure size 432x288 with 1 Axes>"
            ],
            "image/png": "[encoded data removed]"
          },
          "metadata": {
            "needs_background": "light"
          }
        }
      ]
    },
    {
      "cell_type": "code",
      "source": [
        "season_data=match_data[[\"match_id\",\"season\"]].merge(ball_data,left_on=\"match_id\",right_on=\"match_id\",how=\"left\").drop(\"match_id\",axis=1)\n",
        "season_data.head()"
      ],
      "metadata": {
        "colab": {
          "base_uri": "https://localhost:8080/",
          "height": 444
        },
        "id": "bQnmkA04FaA3",
        "outputId": "30fbe8e6-7073-4cf1-c5b1-342066571b3b"
      },
      "execution_count": 122,
      "outputs": [
        {
          "output_type": "execute_result",
          "data": {
            "text/plain": [
              "   season_x season_y  start_date                  venue  innings  ball  \\\n",
              "0      2008  2007/08  2008-04-18  M Chinnaswamy Stadium        1   0.1   \n",
              "1      2008  2007/08  2008-04-18  M Chinnaswamy Stadium        1   0.2   \n",
              "2      2008  2007/08  2008-04-18  M Chinnaswamy Stadium        1   0.3   \n",
              "3      2008  2007/08  2008-04-18  M Chinnaswamy Stadium        1   0.4   \n",
              "4      2008  2007/08  2008-04-18  M Chinnaswamy Stadium        1   0.5   \n",
              "\n",
              "            batting_team                 bowling_team      striker  \\\n",
              "0  Kolkata Knight Riders  Royal Challengers Bangalore   SC Ganguly   \n",
              "1  Kolkata Knight Riders  Royal Challengers Bangalore  BB McCullum   \n",
              "2  Kolkata Knight Riders  Royal Challengers Bangalore  BB McCullum   \n",
              "3  Kolkata Knight Riders  Royal Challengers Bangalore  BB McCullum   \n",
              "4  Kolkata Knight Riders  Royal Challengers Bangalore  BB McCullum   \n",
              "\n",
              "   non_striker   bowler  runs_off_bat  extras  wides  noballs  byes  legbyes  \\\n",
              "0  BB McCullum  P Kumar             0       1    NaN      NaN   NaN      1.0   \n",
              "1   SC Ganguly  P Kumar             0       0    NaN      NaN   NaN      NaN   \n",
              "2   SC Ganguly  P Kumar             0       1    1.0      NaN   NaN      NaN   \n",
              "3   SC Ganguly  P Kumar             0       0    NaN      NaN   NaN      NaN   \n",
              "4   SC Ganguly  P Kumar             0       0    NaN      NaN   NaN      NaN   \n",
              "\n",
              "   penalty wicket_type player_dismissed  other_wicket_type  \\\n",
              "0      NaN         NaN              NaN                NaN   \n",
              "1      NaN         NaN              NaN                NaN   \n",
              "2      NaN         NaN              NaN                NaN   \n",
              "3      NaN         NaN              NaN                NaN   \n",
              "4      NaN         NaN              NaN                NaN   \n",
              "\n",
              "   other_player_dismissed  \n",
              "0                     NaN  \n",
              "1                     NaN  \n",
              "2                     NaN  \n",
              "3                     NaN  \n",
              "4                     NaN  "
            ],
            "text/html": [
              "\n",
              "  <div id=\"df-21608e1b-53b9-49ad-8544-038d5b200331\">\n",
              "    <div class=\"colab-df-container\">\n",
              "      <div>\n",
              "<style scoped>\n",
              "    .dataframe tbody tr th:only-of-type {\n",
              "        vertical-align: middle;\n",
              "    }\n",
              "\n",
              "    .dataframe tbody tr th {\n",
              "        vertical-align: top;\n",
              "    }\n",
              "\n",
              "    .dataframe thead th {\n",
              "        text-align: right;\n",
              "    }\n",
              "</style>\n",
              "<table border=\"1\" class=\"dataframe\">\n",
              "  <thead>\n",
              "    <tr style=\"text-align: right;\">\n",
              "      <th></th>\n",
              "      <th>season_x</th>\n",
              "      <th>season_y</th>\n",
              "      <th>start_date</th>\n",
              "      <th>venue</th>\n",
              "      <th>innings</th>\n",
              "      <th>ball</th>\n",
              "      <th>batting_team</th>\n",
              "      <th>bowling_team</th>\n",
              "      <th>striker</th>\n",
              "      <th>non_striker</th>\n",
              "      <th>bowler</th>\n",
              "      <th>runs_off_bat</th>\n",
              "      <th>extras</th>\n",
              "      <th>wides</th>\n",
              "      <th>noballs</th>\n",
              "      <th>byes</th>\n",
              "      <th>legbyes</th>\n",
              "      <th>penalty</th>\n",
              "      <th>wicket_type</th>\n",
              "      <th>player_dismissed</th>\n",
              "      <th>other_wicket_type</th>\n",
              "      <th>other_player_dismissed</th>\n",
              "    </tr>\n",
              "  </thead>\n",
              "  <tbody>\n",
              "    <tr>\n",
              "      <th>0</th>\n",
              "      <td>2008</td>\n",
              "      <td>2007/08</td>\n",
              "      <td>2008-04-18</td>\n",
              "      <td>M Chinnaswamy Stadium</td>\n",
              "      <td>1</td>\n",
              "      <td>0.1</td>\n",
              "      <td>Kolkata Knight Riders</td>\n",
              "      <td>Royal Challengers Bangalore</td>\n",
              "      <td>SC Ganguly</td>\n",
              "      <td>BB McCullum</td>\n",
              "      <td>P Kumar</td>\n",
              "      <td>0</td>\n",
              "      <td>1</td>\n",
              "      <td>NaN</td>\n",
              "      <td>NaN</td>\n",
              "      <td>NaN</td>\n",
              "      <td>1.0</td>\n",
              "      <td>NaN</td>\n",
              "      <td>NaN</td>\n",
              "      <td>NaN</td>\n",
              "      <td>NaN</td>\n",
              "      <td>NaN</td>\n",
              "    </tr>\n",
              "    <tr>\n",
              "      <th>1</th>\n",
              "      <td>2008</td>\n",
              "      <td>2007/08</td>\n",
              "      <td>2008-04-18</td>\n",
              "      <td>M Chinnaswamy Stadium</td>\n",
              "      <td>1</td>\n",
              "      <td>0.2</td>\n",
              "      <td>Kolkata Knight Riders</td>\n",
              "      <td>Royal Challengers Bangalore</td>\n",
              "      <td>BB McCullum</td>\n",
              "      <td>SC Ganguly</td>\n",
              "      <td>P Kumar</td>\n",
              "      <td>0</td>\n",
              "      <td>0</td>\n",
              "      <td>NaN</td>\n",
              "      <td>NaN</td>\n",
              "      <td>NaN</td>\n",
              "      <td>NaN</td>\n",
              "      <td>NaN</td>\n",
              "      <td>NaN</td>\n",
              "      <td>NaN</td>\n",
              "      <td>NaN</td>\n",
              "      <td>NaN</td>\n",
              "    </tr>\n",
              "    <tr>\n",
              "      <th>2</th>\n",
              "      <td>2008</td>\n",
              "      <td>2007/08</td>\n",
              "      <td>2008-04-18</td>\n",
              "      <td>M Chinnaswamy Stadium</td>\n",
              "      <td>1</td>\n",
              "      <td>0.3</td>\n",
              "      <td>Kolkata Knight Riders</td>\n",
              "      <td>Royal Challengers Bangalore</td>\n",
              "      <td>BB McCullum</td>\n",
              "      <td>SC Ganguly</td>\n",
              "      <td>P Kumar</td>\n",
              "      <td>0</td>\n",
              "      <td>1</td>\n",
              "      <td>1.0</td>\n",
              "      <td>NaN</td>\n",
              "      <td>NaN</td>\n",
              "      <td>NaN</td>\n",
              "      <td>NaN</td>\n",
              "      <td>NaN</td>\n",
              "      <td>NaN</td>\n",
              "      <td>NaN</td>\n",
              "      <td>NaN</td>\n",
              "    </tr>\n",
              "    <tr>\n",
              "      <th>3</th>\n",
              "      <td>2008</td>\n",
              "      <td>2007/08</td>\n",
              "      <td>2008-04-18</td>\n",
              "      <td>M Chinnaswamy Stadium</td>\n",
              "      <td>1</td>\n",
              "      <td>0.4</td>\n",
              "      <td>Kolkata Knight Riders</td>\n",
              "      <td>Royal Challengers Bangalore</td>\n",
              "      <td>BB McCullum</td>\n",
              "      <td>SC Ganguly</td>\n",
              "      <td>P Kumar</td>\n",
              "      <td>0</td>\n",
              "      <td>0</td>\n",
              "      <td>NaN</td>\n",
              "      <td>NaN</td>\n",
              "      <td>NaN</td>\n",
              "      <td>NaN</td>\n",
              "      <td>NaN</td>\n",
              "      <td>NaN</td>\n",
              "      <td>NaN</td>\n",
              "      <td>NaN</td>\n",
              "      <td>NaN</td>\n",
              "    </tr>\n",
              "    <tr>\n",
              "      <th>4</th>\n",
              "      <td>2008</td>\n",
              "      <td>2007/08</td>\n",
              "      <td>2008-04-18</td>\n",
              "      <td>M Chinnaswamy Stadium</td>\n",
              "      <td>1</td>\n",
              "      <td>0.5</td>\n",
              "      <td>Kolkata Knight Riders</td>\n",
              "      <td>Royal Challengers Bangalore</td>\n",
              "      <td>BB McCullum</td>\n",
              "      <td>SC Ganguly</td>\n",
              "      <td>P Kumar</td>\n",
              "      <td>0</td>\n",
              "      <td>0</td>\n",
              "      <td>NaN</td>\n",
              "      <td>NaN</td>\n",
              "      <td>NaN</td>\n",
              "      <td>NaN</td>\n",
              "      <td>NaN</td>\n",
              "      <td>NaN</td>\n",
              "      <td>NaN</td>\n",
              "      <td>NaN</td>\n",
              "      <td>NaN</td>\n",
              "    </tr>\n",
              "  </tbody>\n",
              "</table>\n",
              "</div>\n",
              "      <button class=\"colab-df-convert\" onclick=\"convertToInteractive('df-21608e1b-53b9-49ad-8544-038d5b200331')\"\n",
              "              title=\"Convert this dataframe to an interactive table.\"\n",
              "              style=\"display:none;\">\n",
              "        \n",
              "  <svg xmlns=\"http://www.w3.org/2000/svg\" height=\"24px\"viewBox=\"0 0 24 24\"\n",
              "       width=\"24px\">\n",
              "    <path d=\"M0 0h24v24H0V0z\" fill=\"none\"/>\n",
              "    <path d=\"M18.56 5.44l.94 2.06.94-2.06 2.06-.94-2.06-.94-.94-2.06-.94 2.06-2.06.94zm-11 1L8.5 8.5l.94-2.06 2.06-.94-2.06-.94L8.5 2.5l-.94 2.06-2.06.94zm10 10l.94 2.06.94-2.06 2.06-.94-2.06-.94-.94-2.06-.94 2.06-2.06.94z\"/><path d=\"M17.41 7.96l-1.37-1.37c-.4-.4-.92-.59-1.43-.59-.52 0-1.04.2-1.43.59L10.3 9.45l-7.72 7.72c-.78.78-.78 2.05 0 2.83L4 21.41c.39.39.9.59 1.41.59.51 0 1.02-.2 1.41-.59l7.78-7.78 2.81-2.81c.8-.78.8-2.07 0-2.86zM5.41 20L4 18.59l7.72-7.72 1.47 1.35L5.41 20z\"/>\n",
              "  </svg>\n",
              "      </button>\n",
              "      \n",
              "  <style>\n",
              "    .colab-df-container {\n",
              "      display:flex;\n",
              "      flex-wrap:wrap;\n",
              "      gap: 12px;\n",
              "    }\n",
              "\n",
              "    .colab-df-convert {\n",
              "      background-color: #E8F0FE;\n",
              "      border: none;\n",
              "      border-radius: 50%;\n",
              "      cursor: pointer;\n",
              "      display: none;\n",
              "      fill: #1967D2;\n",
              "      height: 32px;\n",
              "      padding: 0 0 0 0;\n",
              "      width: 32px;\n",
              "    }\n",
              "\n",
              "    .colab-df-convert:hover {\n",
              "      background-color: #E2EBFA;\n",
              "      box-shadow: 0px 1px 2px rgba(60, 64, 67, 0.3), 0px 1px 3px 1px rgba(60, 64, 67, 0.15);\n",
              "      fill: #174EA6;\n",
              "    }\n",
              "\n",
              "    [theme=dark] .colab-df-convert {\n",
              "      background-color: #3B4455;\n",
              "      fill: #D2E3FC;\n",
              "    }\n",
              "\n",
              "    [theme=dark] .colab-df-convert:hover {\n",
              "      background-color: #434B5C;\n",
              "      box-shadow: 0px 1px 3px 1px rgba(0, 0, 0, 0.15);\n",
              "      filter: drop-shadow(0px 1px 2px rgba(0, 0, 0, 0.3));\n",
              "      fill: #FFFFFF;\n",
              "    }\n",
              "  </style>\n",
              "\n",
              "      <script>\n",
              "        const buttonEl =\n",
              "          document.querySelector('#df-21608e1b-53b9-49ad-8544-038d5b200331 button.colab-df-convert');\n",
              "        buttonEl.style.display =\n",
              "          google.colab.kernel.accessAllowed ? 'block' : 'none';\n",
              "\n",
              "        async function convertToInteractive(key) {\n",
              "          const element = document.querySelector('#df-21608e1b-53b9-49ad-8544-038d5b200331');\n",
              "          const dataTable =\n",
              "            await google.colab.kernel.invokeFunction('convertToInteractive',\n",
              "                                                     [key], {});\n",
              "          if (!dataTable) return;\n",
              "\n",
              "          const docLinkHtml = 'Like what you see? Visit the ' +\n",
              "            '<a target=\"_blank\" href=https://colab.research.google.com/notebooks/data_table.ipynb>data table notebook</a>'\n",
              "            + ' to learn more about interactive tables.';\n",
              "          element.innerHTML = '';\n",
              "          dataTable['output_type'] = 'display_data';\n",
              "          await google.colab.output.renderOutput(dataTable, element);\n",
              "          const docLink = document.createElement('div');\n",
              "          docLink.innerHTML = docLinkHtml;\n",
              "          element.appendChild(docLink);\n",
              "        }\n",
              "      </script>\n",
              "    </div>\n",
              "  </div>\n",
              "  "
            ]
          },
          "metadata": {},
          "execution_count": 122
        }
      ]
    },
    {
      "cell_type": "code",
      "source": [
        "ball_data.columns"
      ],
      "metadata": {
        "colab": {
          "base_uri": "https://localhost:8080/"
        },
        "id": "6o7Qy8SsTr3l",
        "outputId": "02c25d25-b69f-4214-ed15-2c92df9ac0d6"
      },
      "execution_count": 123,
      "outputs": [
        {
          "output_type": "execute_result",
          "data": {
            "text/plain": [
              "Index(['match_id', 'season', 'start_date', 'venue', 'innings', 'ball',\n",
              "       'batting_team', 'bowling_team', 'striker', 'non_striker', 'bowler',\n",
              "       'runs_off_bat', 'extras', 'wides', 'noballs', 'byes', 'legbyes',\n",
              "       'penalty', 'wicket_type', 'player_dismissed', 'other_wicket_type',\n",
              "       'other_player_dismissed'],\n",
              "      dtype='object')"
            ]
          },
          "metadata": {},
          "execution_count": 123
        }
      ]
    },
    {
      "cell_type": "code",
      "source": [
        "season_data[\"total_runs\"]=season_data[[\"runs_off_bat\",\"extras\"]].sum(axis=1)\n",
        "season_data.tail()"
      ],
      "metadata": {
        "colab": {
          "base_uri": "https://localhost:8080/",
          "height": 531
        },
        "id": "dRIn_AmMUlr_",
        "outputId": "b24a2bac-5fd0-4116-aa35-de4ba9af6751"
      },
      "execution_count": 124,
      "outputs": [
        {
          "output_type": "execute_result",
          "data": {
            "text/plain": [
              "        season_x season_y  start_date                             venue  \\\n",
              "225949      2022     2022  2022-05-29  Narendra Modi Stadium, Ahmedabad   \n",
              "225950      2022     2022  2022-05-29  Narendra Modi Stadium, Ahmedabad   \n",
              "225951      2022     2022  2022-05-29  Narendra Modi Stadium, Ahmedabad   \n",
              "225952      2022     2022  2022-05-29  Narendra Modi Stadium, Ahmedabad   \n",
              "225953      2022     2022  2022-05-29  Narendra Modi Stadium, Ahmedabad   \n",
              "\n",
              "        innings  ball    batting_team      bowling_team       striker  \\\n",
              "225949        2  17.3  Gujarat Titans  Rajasthan Royals     DA Miller   \n",
              "225950        2  17.4  Gujarat Titans  Rajasthan Royals  Shubman Gill   \n",
              "225951        2  17.5  Gujarat Titans  Rajasthan Royals  Shubman Gill   \n",
              "225952        2  17.6  Gujarat Titans  Rajasthan Royals     DA Miller   \n",
              "225953        2  18.1  Gujarat Titans  Rajasthan Royals  Shubman Gill   \n",
              "\n",
              "         non_striker    bowler  runs_off_bat  extras  wides  noballs  byes  \\\n",
              "225949  Shubman Gill  R Ashwin             1       0    NaN      NaN   NaN   \n",
              "225950     DA Miller  R Ashwin             0       0    NaN      NaN   NaN   \n",
              "225951     DA Miller  R Ashwin             1       0    NaN      NaN   NaN   \n",
              "225952  Shubman Gill  R Ashwin             2       0    NaN      NaN   NaN   \n",
              "225953     DA Miller  OC McCoy             6       0    NaN      NaN   NaN   \n",
              "\n",
              "        legbyes  penalty wicket_type player_dismissed  other_wicket_type  \\\n",
              "225949      NaN      NaN         NaN              NaN                NaN   \n",
              "225950      NaN      NaN         NaN              NaN                NaN   \n",
              "225951      NaN      NaN         NaN              NaN                NaN   \n",
              "225952      NaN      NaN         NaN              NaN                NaN   \n",
              "225953      NaN      NaN         NaN              NaN                NaN   \n",
              "\n",
              "        other_player_dismissed  total_runs  \n",
              "225949                     NaN           1  \n",
              "225950                     NaN           0  \n",
              "225951                     NaN           1  \n",
              "225952                     NaN           2  \n",
              "225953                     NaN           6  "
            ],
            "text/html": [
              "\n",
              "  <div id=\"df-18f170fe-d6bf-4107-970c-537a0e9958e3\">\n",
              "    <div class=\"colab-df-container\">\n",
              "      <div>\n",
              "<style scoped>\n",
              "    .dataframe tbody tr th:only-of-type {\n",
              "        vertical-align: middle;\n",
              "    }\n",
              "\n",
              "    .dataframe tbody tr th {\n",
              "        vertical-align: top;\n",
              "    }\n",
              "\n",
              "    .dataframe thead th {\n",
              "        text-align: right;\n",
              "    }\n",
              "</style>\n",
              "<table border=\"1\" class=\"dataframe\">\n",
              "  <thead>\n",
              "    <tr style=\"text-align: right;\">\n",
              "      <th></th>\n",
              "      <th>season_x</th>\n",
              "      <th>season_y</th>\n",
              "      <th>start_date</th>\n",
              "      <th>venue</th>\n",
              "      <th>innings</th>\n",
              "      <th>ball</th>\n",
              "      <th>batting_team</th>\n",
              "      <th>bowling_team</th>\n",
              "      <th>striker</th>\n",
              "      <th>non_striker</th>\n",
              "      <th>bowler</th>\n",
              "      <th>runs_off_bat</th>\n",
              "      <th>extras</th>\n",
              "      <th>wides</th>\n",
              "      <th>noballs</th>\n",
              "      <th>byes</th>\n",
              "      <th>legbyes</th>\n",
              "      <th>penalty</th>\n",
              "      <th>wicket_type</th>\n",
              "      <th>player_dismissed</th>\n",
              "      <th>other_wicket_type</th>\n",
              "      <th>other_player_dismissed</th>\n",
              "      <th>total_runs</th>\n",
              "    </tr>\n",
              "  </thead>\n",
              "  <tbody>\n",
              "    <tr>\n",
              "      <th>225949</th>\n",
              "      <td>2022</td>\n",
              "      <td>2022</td>\n",
              "      <td>2022-05-29</td>\n",
              "      <td>Narendra Modi Stadium, Ahmedabad</td>\n",
              "      <td>2</td>\n",
              "      <td>17.3</td>\n",
              "      <td>Gujarat Titans</td>\n",
              "      <td>Rajasthan Royals</td>\n",
              "      <td>DA Miller</td>\n",
              "      <td>Shubman Gill</td>\n",
              "      <td>R Ashwin</td>\n",
              "      <td>1</td>\n",
              "      <td>0</td>\n",
              "      <td>NaN</td>\n",
              "      <td>NaN</td>\n",
              "      <td>NaN</td>\n",
              "      <td>NaN</td>\n",
              "      <td>NaN</td>\n",
              "      <td>NaN</td>\n",
              "      <td>NaN</td>\n",
              "      <td>NaN</td>\n",
              "      <td>NaN</td>\n",
              "      <td>1</td>\n",
              "    </tr>\n",
              "    <tr>\n",
              "      <th>225950</th>\n",
              "      <td>2022</td>\n",
              "      <td>2022</td>\n",
              "      <td>2022-05-29</td>\n",
              "      <td>Narendra Modi Stadium, Ahmedabad</td>\n",
              "      <td>2</td>\n",
              "      <td>17.4</td>\n",
              "      <td>Gujarat Titans</td>\n",
              "      <td>Rajasthan Royals</td>\n",
              "      <td>Shubman Gill</td>\n",
              "      <td>DA Miller</td>\n",
              "      <td>R Ashwin</td>\n",
              "      <td>0</td>\n",
              "      <td>0</td>\n",
              "      <td>NaN</td>\n",
              "      <td>NaN</td>\n",
              "      <td>NaN</td>\n",
              "      <td>NaN</td>\n",
              "      <td>NaN</td>\n",
              "      <td>NaN</td>\n",
              "      <td>NaN</td>\n",
              "      <td>NaN</td>\n",
              "      <td>NaN</td>\n",
              "      <td>0</td>\n",
              "    </tr>\n",
              "    <tr>\n",
              "      <th>225951</th>\n",
              "      <td>2022</td>\n",
              "      <td>2022</td>\n",
              "      <td>2022-05-29</td>\n",
              "      <td>Narendra Modi Stadium, Ahmedabad</td>\n",
              "      <td>2</td>\n",
              "      <td>17.5</td>\n",
              "      <td>Gujarat Titans</td>\n",
              "      <td>Rajasthan Royals</td>\n",
              "      <td>Shubman Gill</td>\n",
              "      <td>DA Miller</td>\n",
              "      <td>R Ashwin</td>\n",
              "      <td>1</td>\n",
              "      <td>0</td>\n",
              "      <td>NaN</td>\n",
              "      <td>NaN</td>\n",
              "      <td>NaN</td>\n",
              "      <td>NaN</td>\n",
              "      <td>NaN</td>\n",
              "      <td>NaN</td>\n",
              "      <td>NaN</td>\n",
              "      <td>NaN</td>\n",
              "      <td>NaN</td>\n",
              "      <td>1</td>\n",
              "    </tr>\n",
              "    <tr>\n",
              "      <th>225952</th>\n",
              "      <td>2022</td>\n",
              "      <td>2022</td>\n",
              "      <td>2022-05-29</td>\n",
              "      <td>Narendra Modi Stadium, Ahmedabad</td>\n",
              "      <td>2</td>\n",
              "      <td>17.6</td>\n",
              "      <td>Gujarat Titans</td>\n",
              "      <td>Rajasthan Royals</td>\n",
              "      <td>DA Miller</td>\n",
              "      <td>Shubman Gill</td>\n",
              "      <td>R Ashwin</td>\n",
              "      <td>2</td>\n",
              "      <td>0</td>\n",
              "      <td>NaN</td>\n",
              "      <td>NaN</td>\n",
              "      <td>NaN</td>\n",
              "      <td>NaN</td>\n",
              "      <td>NaN</td>\n",
              "      <td>NaN</td>\n",
              "      <td>NaN</td>\n",
              "      <td>NaN</td>\n",
              "      <td>NaN</td>\n",
              "      <td>2</td>\n",
              "    </tr>\n",
              "    <tr>\n",
              "      <th>225953</th>\n",
              "      <td>2022</td>\n",
              "      <td>2022</td>\n",
              "      <td>2022-05-29</td>\n",
              "      <td>Narendra Modi Stadium, Ahmedabad</td>\n",
              "      <td>2</td>\n",
              "      <td>18.1</td>\n",
              "      <td>Gujarat Titans</td>\n",
              "      <td>Rajasthan Royals</td>\n",
              "      <td>Shubman Gill</td>\n",
              "      <td>DA Miller</td>\n",
              "      <td>OC McCoy</td>\n",
              "      <td>6</td>\n",
              "      <td>0</td>\n",
              "      <td>NaN</td>\n",
              "      <td>NaN</td>\n",
              "      <td>NaN</td>\n",
              "      <td>NaN</td>\n",
              "      <td>NaN</td>\n",
              "      <td>NaN</td>\n",
              "      <td>NaN</td>\n",
              "      <td>NaN</td>\n",
              "      <td>NaN</td>\n",
              "      <td>6</td>\n",
              "    </tr>\n",
              "  </tbody>\n",
              "</table>\n",
              "</div>\n",
              "      <button class=\"colab-df-convert\" onclick=\"convertToInteractive('df-18f170fe-d6bf-4107-970c-537a0e9958e3')\"\n",
              "              title=\"Convert this dataframe to an interactive table.\"\n",
              "              style=\"display:none;\">\n",
              "        \n",
              "  <svg xmlns=\"http://www.w3.org/2000/svg\" height=\"24px\"viewBox=\"0 0 24 24\"\n",
              "       width=\"24px\">\n",
              "    <path d=\"M0 0h24v24H0V0z\" fill=\"none\"/>\n",
              "    <path d=\"M18.56 5.44l.94 2.06.94-2.06 2.06-.94-2.06-.94-.94-2.06-.94 2.06-2.06.94zm-11 1L8.5 8.5l.94-2.06 2.06-.94-2.06-.94L8.5 2.5l-.94 2.06-2.06.94zm10 10l.94 2.06.94-2.06 2.06-.94-2.06-.94-.94-2.06-.94 2.06-2.06.94z\"/><path d=\"M17.41 7.96l-1.37-1.37c-.4-.4-.92-.59-1.43-.59-.52 0-1.04.2-1.43.59L10.3 9.45l-7.72 7.72c-.78.78-.78 2.05 0 2.83L4 21.41c.39.39.9.59 1.41.59.51 0 1.02-.2 1.41-.59l7.78-7.78 2.81-2.81c.8-.78.8-2.07 0-2.86zM5.41 20L4 18.59l7.72-7.72 1.47 1.35L5.41 20z\"/>\n",
              "  </svg>\n",
              "      </button>\n",
              "      \n",
              "  <style>\n",
              "    .colab-df-container {\n",
              "      display:flex;\n",
              "      flex-wrap:wrap;\n",
              "      gap: 12px;\n",
              "    }\n",
              "\n",
              "    .colab-df-convert {\n",
              "      background-color: #E8F0FE;\n",
              "      border: none;\n",
              "      border-radius: 50%;\n",
              "      cursor: pointer;\n",
              "      display: none;\n",
              "      fill: #1967D2;\n",
              "      height: 32px;\n",
              "      padding: 0 0 0 0;\n",
              "      width: 32px;\n",
              "    }\n",
              "\n",
              "    .colab-df-convert:hover {\n",
              "      background-color: #E2EBFA;\n",
              "      box-shadow: 0px 1px 2px rgba(60, 64, 67, 0.3), 0px 1px 3px 1px rgba(60, 64, 67, 0.15);\n",
              "      fill: #174EA6;\n",
              "    }\n",
              "\n",
              "    [theme=dark] .colab-df-convert {\n",
              "      background-color: #3B4455;\n",
              "      fill: #D2E3FC;\n",
              "    }\n",
              "\n",
              "    [theme=dark] .colab-df-convert:hover {\n",
              "      background-color: #434B5C;\n",
              "      box-shadow: 0px 1px 3px 1px rgba(0, 0, 0, 0.15);\n",
              "      filter: drop-shadow(0px 1px 2px rgba(0, 0, 0, 0.3));\n",
              "      fill: #FFFFFF;\n",
              "    }\n",
              "  </style>\n",
              "\n",
              "      <script>\n",
              "        const buttonEl =\n",
              "          document.querySelector('#df-18f170fe-d6bf-4107-970c-537a0e9958e3 button.colab-df-convert');\n",
              "        buttonEl.style.display =\n",
              "          google.colab.kernel.accessAllowed ? 'block' : 'none';\n",
              "\n",
              "        async function convertToInteractive(key) {\n",
              "          const element = document.querySelector('#df-18f170fe-d6bf-4107-970c-537a0e9958e3');\n",
              "          const dataTable =\n",
              "            await google.colab.kernel.invokeFunction('convertToInteractive',\n",
              "                                                     [key], {});\n",
              "          if (!dataTable) return;\n",
              "\n",
              "          const docLinkHtml = 'Like what you see? Visit the ' +\n",
              "            '<a target=\"_blank\" href=https://colab.research.google.com/notebooks/data_table.ipynb>data table notebook</a>'\n",
              "            + ' to learn more about interactive tables.';\n",
              "          element.innerHTML = '';\n",
              "          dataTable['output_type'] = 'display_data';\n",
              "          await google.colab.output.renderOutput(dataTable, element);\n",
              "          const docLink = document.createElement('div');\n",
              "          docLink.innerHTML = docLinkHtml;\n",
              "          element.appendChild(docLink);\n",
              "        }\n",
              "      </script>\n",
              "    </div>\n",
              "  </div>\n",
              "  "
            ]
          },
          "metadata": {},
          "execution_count": 124
        }
      ]
    },
    {
      "cell_type": "markdown",
      "source": [
        "to plot runs scored in each season"
      ],
      "metadata": {
        "id": "YhR8sYaiaCoc"
      }
    },
    {
      "cell_type": "code",
      "source": [
        "season=season_data.groupby(\"season_x\")[\"total_runs\"].sum().reset_index()\n",
        "p=season.set_index(\"season_x\")\n",
        "sns.lineplot(data=p,palette=\"magma\")\n",
        "plt.xlabel(\"season\")\n",
        "plt.ylabel(\"runs\")\n",
        "plt.title(\"total runs scored each season\",fontweight=\"bold\")"
      ],
      "metadata": {
        "colab": {
          "base_uri": "https://localhost:8080/",
          "height": 313
        },
        "id": "SetEQKSgFaC7",
        "outputId": "2a91683e-1d6b-4591-fcf0-c8f99cdb9857"
      },
      "execution_count": 125,
      "outputs": [
        {
          "output_type": "execute_result",
          "data": {
            "text/plain": [
              "Text(0.5, 1.0, 'total runs scored each season')"
            ]
          },
          "metadata": {},
          "execution_count": 125
        },
        {
          "output_type": "display_data",
          "data": {
            "text/plain": [
              "<Figure size 432x288 with 1 Axes>"
            ],
            "image/png": "[encoded data removed]"
          },
          "metadata": {
            "needs_background": "light"
          }
        }
      ]
    },
    {
      "cell_type": "code",
      "source": [
        "runs_per_season=pd.concat([matches_per_season,season.iloc[:,1]],axis=1)\n",
        "runs_per_season[\"runs_per_match\"] =runs_per_season[\"total_runs\"]/runs_per_season[\"matches\"]  \n",
        "runs_per_season.set_index(\"season\",inplace=True)         \n",
        "runs_per_season          "
      ],
      "metadata": {
        "colab": {
          "base_uri": "https://localhost:8080/",
          "height": 551
        },
        "id": "hsdcWcHQZ_27",
        "outputId": "f2f53b44-de64-4440-846a-4840ebe7ba71"
      },
      "execution_count": 126,
      "outputs": [
        {
          "output_type": "execute_result",
          "data": {
            "text/plain": [
              "        matches  total_runs  runs_per_match\n",
              "season                                     \n",
              "2008         58       17937      309.258621\n",
              "2009         57       16353      286.894737\n",
              "2010         60       18883      314.716667\n",
              "2011         73       21154      289.780822\n",
              "2012         74       22453      303.418919\n",
              "2013         76       22602      297.394737\n",
              "2014         60       18931      315.516667\n",
              "2015         59       18353      311.067797\n",
              "2016         60       18862      314.366667\n",
              "2017         59       18786      318.406780\n",
              "2018         60       19901      331.683333\n",
              "2019         60       19434      323.900000\n",
              "2020         60       19416      323.600000\n",
              "2021         60       18637      310.616667\n",
              "2022         74       24395      329.662162"
            ],
            "text/html": [
              "\n",
              "  <div id=\"df-58b0be6d-6f22-4ba1-9a1b-070bb2bc09ce\">\n",
              "    <div class=\"colab-df-container\">\n",
              "      <div>\n",
              "<style scoped>\n",
              "    .dataframe tbody tr th:only-of-type {\n",
              "        vertical-align: middle;\n",
              "    }\n",
              "\n",
              "    .dataframe tbody tr th {\n",
              "        vertical-align: top;\n",
              "    }\n",
              "\n",
              "    .dataframe thead th {\n",
              "        text-align: right;\n",
              "    }\n",
              "</style>\n",
              "<table border=\"1\" class=\"dataframe\">\n",
              "  <thead>\n",
              "    <tr style=\"text-align: right;\">\n",
              "      <th></th>\n",
              "      <th>matches</th>\n",
              "      <th>total_runs</th>\n",
              "      <th>runs_per_match</th>\n",
              "    </tr>\n",
              "    <tr>\n",
              "      <th>season</th>\n",
              "      <th></th>\n",
              "      <th></th>\n",
              "      <th></th>\n",
              "    </tr>\n",
              "  </thead>\n",
              "  <tbody>\n",
              "    <tr>\n",
              "      <th>2008</th>\n",
              "      <td>58</td>\n",
              "      <td>17937</td>\n",
              "      <td>309.258621</td>\n",
              "    </tr>\n",
              "    <tr>\n",
              "      <th>2009</th>\n",
              "      <td>57</td>\n",
              "      <td>16353</td>\n",
              "      <td>286.894737</td>\n",
              "    </tr>\n",
              "    <tr>\n",
              "      <th>2010</th>\n",
              "      <td>60</td>\n",
              "      <td>18883</td>\n",
              "      <td>314.716667</td>\n",
              "    </tr>\n",
              "    <tr>\n",
              "      <th>2011</th>\n",
              "      <td>73</td>\n",
              "      <td>21154</td>\n",
              "      <td>289.780822</td>\n",
              "    </tr>\n",
              "    <tr>\n",
              "      <th>2012</th>\n",
              "      <td>74</td>\n",
              "      <td>22453</td>\n",
              "      <td>303.418919</td>\n",
              "    </tr>\n",
              "    <tr>\n",
              "      <th>2013</th>\n",
              "      <td>76</td>\n",
              "      <td>22602</td>\n",
              "      <td>297.394737</td>\n",
              "    </tr>\n",
              "    <tr>\n",
              "      <th>2014</th>\n",
              "      <td>60</td>\n",
              "      <td>18931</td>\n",
              "      <td>315.516667</td>\n",
              "    </tr>\n",
              "    <tr>\n",
              "      <th>2015</th>\n",
              "      <td>59</td>\n",
              "      <td>18353</td>\n",
              "      <td>311.067797</td>\n",
              "    </tr>\n",
              "    <tr>\n",
              "      <th>2016</th>\n",
              "      <td>60</td>\n",
              "      <td>18862</td>\n",
              "      <td>314.366667</td>\n",
              "    </tr>\n",
              "    <tr>\n",
              "      <th>2017</th>\n",
              "      <td>59</td>\n",
              "      <td>18786</td>\n",
              "      <td>318.406780</td>\n",
              "    </tr>\n",
              "    <tr>\n",
              "      <th>2018</th>\n",
              "      <td>60</td>\n",
              "      <td>19901</td>\n",
              "      <td>331.683333</td>\n",
              "    </tr>\n",
              "    <tr>\n",
              "      <th>2019</th>\n",
              "      <td>60</td>\n",
              "      <td>19434</td>\n",
              "      <td>323.900000</td>\n",
              "    </tr>\n",
              "    <tr>\n",
              "      <th>2020</th>\n",
              "      <td>60</td>\n",
              "      <td>19416</td>\n",
              "      <td>323.600000</td>\n",
              "    </tr>\n",
              "    <tr>\n",
              "      <th>2021</th>\n",
              "      <td>60</td>\n",
              "      <td>18637</td>\n",
              "      <td>310.616667</td>\n",
              "    </tr>\n",
              "    <tr>\n",
              "      <th>2022</th>\n",
              "      <td>74</td>\n",
              "      <td>24395</td>\n",
              "      <td>329.662162</td>\n",
              "    </tr>\n",
              "  </tbody>\n",
              "</table>\n",
              "</div>\n",
              "      <button class=\"colab-df-convert\" onclick=\"convertToInteractive('df-58b0be6d-6f22-4ba1-9a1b-070bb2bc09ce')\"\n",
              "              title=\"Convert this dataframe to an interactive table.\"\n",
              "              style=\"display:none;\">\n",
              "        \n",
              "  <svg xmlns=\"http://www.w3.org/2000/svg\" height=\"24px\"viewBox=\"0 0 24 24\"\n",
              "       width=\"24px\">\n",
              "    <path d=\"M0 0h24v24H0V0z\" fill=\"none\"/>\n",
              "    <path d=\"M18.56 5.44l.94 2.06.94-2.06 2.06-.94-2.06-.94-.94-2.06-.94 2.06-2.06.94zm-11 1L8.5 8.5l.94-2.06 2.06-.94-2.06-.94L8.5 2.5l-.94 2.06-2.06.94zm10 10l.94 2.06.94-2.06 2.06-.94-2.06-.94-.94-2.06-.94 2.06-2.06.94z\"/><path d=\"M17.41 7.96l-1.37-1.37c-.4-.4-.92-.59-1.43-.59-.52 0-1.04.2-1.43.59L10.3 9.45l-7.72 7.72c-.78.78-.78 2.05 0 2.83L4 21.41c.39.39.9.59 1.41.59.51 0 1.02-.2 1.41-.59l7.78-7.78 2.81-2.81c.8-.78.8-2.07 0-2.86zM5.41 20L4 18.59l7.72-7.72 1.47 1.35L5.41 20z\"/>\n",
              "  </svg>\n",
              "      </button>\n",
              "      \n",
              "  <style>\n",
              "    .colab-df-container {\n",
              "      display:flex;\n",
              "      flex-wrap:wrap;\n",
              "      gap: 12px;\n",
              "    }\n",
              "\n",
              "    .colab-df-convert {\n",
              "      background-color: #E8F0FE;\n",
              "      border: none;\n",
              "      border-radius: 50%;\n",
              "      cursor: pointer;\n",
              "      display: none;\n",
              "      fill: #1967D2;\n",
              "      height: 32px;\n",
              "      padding: 0 0 0 0;\n",
              "      width: 32px;\n",
              "    }\n",
              "\n",
              "    .colab-df-convert:hover {\n",
              "      background-color: #E2EBFA;\n",
              "      box-shadow: 0px 1px 2px rgba(60, 64, 67, 0.3), 0px 1px 3px 1px rgba(60, 64, 67, 0.15);\n",
              "      fill: #174EA6;\n",
              "    }\n",
              "\n",
              "    [theme=dark] .colab-df-convert {\n",
              "      background-color: #3B4455;\n",
              "      fill: #D2E3FC;\n",
              "    }\n",
              "\n",
              "    [theme=dark] .colab-df-convert:hover {\n",
              "      background-color: #434B5C;\n",
              "      box-shadow: 0px 1px 3px 1px rgba(0, 0, 0, 0.15);\n",
              "      filter: drop-shadow(0px 1px 2px rgba(0, 0, 0, 0.3));\n",
              "      fill: #FFFFFF;\n",
              "    }\n",
              "  </style>\n",
              "\n",
              "      <script>\n",
              "        const buttonEl =\n",
              "          document.querySelector('#df-58b0be6d-6f22-4ba1-9a1b-070bb2bc09ce button.colab-df-convert');\n",
              "        buttonEl.style.display =\n",
              "          google.colab.kernel.accessAllowed ? 'block' : 'none';\n",
              "\n",
              "        async function convertToInteractive(key) {\n",
              "          const element = document.querySelector('#df-58b0be6d-6f22-4ba1-9a1b-070bb2bc09ce');\n",
              "          const dataTable =\n",
              "            await google.colab.kernel.invokeFunction('convertToInteractive',\n",
              "                                                     [key], {});\n",
              "          if (!dataTable) return;\n",
              "\n",
              "          const docLinkHtml = 'Like what you see? Visit the ' +\n",
              "            '<a target=\"_blank\" href=https://colab.research.google.com/notebooks/data_table.ipynb>data table notebook</a>'\n",
              "            + ' to learn more about interactive tables.';\n",
              "          element.innerHTML = '';\n",
              "          dataTable['output_type'] = 'display_data';\n",
              "          await google.colab.output.renderOutput(dataTable, element);\n",
              "          const docLink = document.createElement('div');\n",
              "          docLink.innerHTML = docLinkHtml;\n",
              "          element.appendChild(docLink);\n",
              "        }\n",
              "      </script>\n",
              "    </div>\n",
              "  </div>\n",
              "  "
            ]
          },
          "metadata": {},
          "execution_count": 126
        }
      ]
    },
    {
      "cell_type": "code",
      "source": [
        "toss=match_data[\"toss_winner\"].value_counts()\n",
        "sns.barplot(y=toss.index,x=toss,palette=\"icefire\",saturation=1)\n",
        "plt.ylabel(\"teams\")\n",
        "plt.xlabel(\"no. of tosses won\")\n",
        "plt.title(\"number of tosses won by each team\",fontweight=\"bold\")"
      ],
      "metadata": {
        "colab": {
          "base_uri": "https://localhost:8080/",
          "height": 313
        },
        "id": "RMXP2vljZ_8Z",
        "outputId": "d9dcb53b-49ac-4e57-f9a7-a2e7d8aba5f4"
      },
      "execution_count": 127,
      "outputs": [
        {
          "output_type": "execute_result",
          "data": {
            "text/plain": [
              "Text(0.5, 1.0, 'number of tosses won by each team')"
            ]
          },
          "metadata": {},
          "execution_count": 127
        },
        {
          "output_type": "display_data",
          "data": {
            "text/plain": [
              "<Figure size 432x288 with 1 Axes>"
            ],
            "image/png": "[encoded data removed]"
          },
          "metadata": {
            "needs_background": "light"
          }
        }
      ]
    },
    {
      "cell_type": "code",
      "source": [
        "sns.countplot(x=\"season\",hue=\"toss_decision\",data=match_data,palette=\"magma\",saturation=1)\n",
        "plt.xticks(rotation=90)\n",
        "plt.xlabel(\"season\")\n",
        "plt.title(\"toss decisions\",fontweight=\"bold\")"
      ],
      "metadata": {
        "colab": {
          "base_uri": "https://localhost:8080/",
          "height": 329
        },
        "id": "TJAtQelqg50t",
        "outputId": "d832c5e5-b2ae-4bfa-c12f-0cd1a05c607a"
      },
      "execution_count": 128,
      "outputs": [
        {
          "output_type": "execute_result",
          "data": {
            "text/plain": [
              "Text(0.5, 1.0, 'toss decisions')"
            ]
          },
          "metadata": {},
          "execution_count": 128
        },
        {
          "output_type": "display_data",
          "data": {
            "text/plain": [
              "<Figure size 432x288 with 1 Axes>"
            ],
            "image/png": "[encoded data removed]"
          },
          "metadata": {
            "needs_background": "light"
          }
        }
      ]
    },
    {
      "cell_type": "code",
      "source": [
        "\n",
        "\n",
        "\n",
        "match_data[\"result_type\"].value_counts()\n"
      ],
      "metadata": {
        "colab": {
          "base_uri": "https://localhost:8080/"
        },
        "id": "bbuwG8F4g53P",
        "outputId": "a7e45e76-f2be-46b9-be26-26f458729dd5"
      },
      "execution_count": 129,
      "outputs": [
        {
          "output_type": "execute_result",
          "data": {
            "text/plain": [
              "chased       509\n",
              "defended     423\n",
              "tie           14\n",
              "no result      4\n",
              "Name: result_type, dtype: int64"
            ]
          },
          "metadata": {},
          "execution_count": 129
        }
      ]
    },
    {
      "cell_type": "code",
      "source": [
        "match_data.venue[match_data.result_type!=\"chased\"].mode()\n",
        "match_data.venue[match_data.result_type!=\"defended\"].mode()"
      ],
      "metadata": {
        "colab": {
          "base_uri": "https://localhost:8080/"
        },
        "id": "td_OzrtHg56r",
        "outputId": "e311d18b-743b-4813-8d55-03c4f0a5e17b"
      },
      "execution_count": 130,
      "outputs": [
        {
          "output_type": "execute_result",
          "data": {
            "text/plain": [
              "0    Eden Gardens\n",
              "dtype: object"
            ]
          },
          "metadata": {},
          "execution_count": 130
        }
      ]
    },
    {
      "cell_type": "markdown",
      "source": [
        "best stadium for defending"
      ],
      "metadata": {
        "id": "WXXpnnZ9VPP-"
      }
    },
    {
      "cell_type": "code",
      "source": [
        "best_for_defending=match_data[\"venue\"][match_data[\"result_type\"]!=\"chased\"].mode()\n",
        "best_for_defending"
      ],
      "metadata": {
        "colab": {
          "base_uri": "https://localhost:8080/"
        },
        "id": "l3B_IE77g58m",
        "outputId": "2b14b81c-1d42-48b9-ad3a-7884f5416edc"
      },
      "execution_count": 131,
      "outputs": [
        {
          "output_type": "execute_result",
          "data": {
            "text/plain": [
              "0    Wankhede Stadium\n",
              "dtype: object"
            ]
          },
          "metadata": {},
          "execution_count": 131
        }
      ]
    },
    {
      "cell_type": "markdown",
      "source": [
        "best stadium for chasing"
      ],
      "metadata": {
        "id": "Yi1i-9qoVSi4"
      }
    },
    {
      "cell_type": "code",
      "source": [
        "best_for_chasing=match_data[\"venue\"][match_data[\"result_type\"]!=\"defended\"].mode()\n",
        "best_for_chasing"
      ],
      "metadata": {
        "colab": {
          "base_uri": "https://localhost:8080/"
        },
        "id": "mT2Y27ddTxke",
        "outputId": "17267393-e61e-47f1-da79-b9a182c41c2f"
      },
      "execution_count": 132,
      "outputs": [
        {
          "output_type": "execute_result",
          "data": {
            "text/plain": [
              "0    Eden Gardens\n",
              "dtype: object"
            ]
          },
          "metadata": {},
          "execution_count": 132
        }
      ]
    },
    {
      "cell_type": "markdown",
      "source": [
        "best stadium to win the toss"
      ],
      "metadata": {
        "id": "np55Cv6LVXTy"
      }
    },
    {
      "cell_type": "code",
      "source": [
        "match_data[\"venue\"][match_data[\"toss_winner\"]==\"Chennai Super Kings\"][match_data[\"winner\"]==\"Chennai Super Kings\"].mode()"
      ],
      "metadata": {
        "colab": {
          "base_uri": "https://localhost:8080/"
        },
        "id": "kjozH5HGTxnQ",
        "outputId": "846da6e1-1fa4-4519-a384-e78806628b8d"
      },
      "execution_count": 133,
      "outputs": [
        {
          "output_type": "execute_result",
          "data": {
            "text/plain": [
              "0    MA Chidambaram Stadium, Chepauk\n",
              "dtype: object"
            ]
          },
          "metadata": {},
          "execution_count": 133
        }
      ]
    },
    {
      "cell_type": "markdown",
      "source": [
        "for Mumbai indians using different syntax"
      ],
      "metadata": {
        "id": "E4SqaRtVVz8l"
      }
    },
    {
      "cell_type": "code",
      "source": [
        "match_data.venue[match_data.toss_winner==\"Mumbai Indians\"][match_data.winner==\"Mumbai Indians\"].mode()"
      ],
      "metadata": {
        "colab": {
          "base_uri": "https://localhost:8080/"
        },
        "id": "rs44xEthTxpu",
        "outputId": "cdd74525-e832-4ab0-b9b3-0c8270cb6cbb"
      },
      "execution_count": 134,
      "outputs": [
        {
          "output_type": "execute_result",
          "data": {
            "text/plain": [
              "0    Wankhede Stadium\n",
              "dtype: object"
            ]
          },
          "metadata": {},
          "execution_count": 134
        }
      ]
    },
    {
      "cell_type": "markdown",
      "source": [
        "best chasing team"
      ],
      "metadata": {
        "id": "ZleU9XIUW-V4"
      }
    },
    {
      "cell_type": "code",
      "source": [
        "match_data.winner[match_data.result_type==\"chased\"].mode()"
      ],
      "metadata": {
        "colab": {
          "base_uri": "https://localhost:8080/"
        },
        "id": "8v6oiz2tWOIT",
        "outputId": "e0891731-6188-4292-f1b6-9733ce75d824"
      },
      "execution_count": 135,
      "outputs": [
        {
          "output_type": "execute_result",
          "data": {
            "text/plain": [
              "0    Kolkata Knight Riders\n",
              "dtype: object"
            ]
          },
          "metadata": {},
          "execution_count": 135
        }
      ]
    },
    {
      "cell_type": "markdown",
      "source": [
        "best definding team"
      ],
      "metadata": {
        "id": "s48Z0bZ_XAlx"
      }
    },
    {
      "cell_type": "code",
      "source": [
        "match_data.winner[match_data.result_type==\"defended\"].mode()"
      ],
      "metadata": {
        "colab": {
          "base_uri": "https://localhost:8080/"
        },
        "id": "4eM6NvxwWOL-",
        "outputId": "ec8287e9-fbc1-4222-9193-8e555952ac46"
      },
      "execution_count": 136,
      "outputs": [
        {
          "output_type": "execute_result",
          "data": {
            "text/plain": [
              "0    Mumbai Indians\n",
              "dtype: object"
            ]
          },
          "metadata": {},
          "execution_count": 136
        }
      ]
    },
    {
      "cell_type": "markdown",
      "source": [
        "does winning toss means winning the match"
      ],
      "metadata": {
        "id": "rBbg8ztpX5Bw"
      }
    },
    {
      "cell_type": "code",
      "source": [
        "sns.countplot(match_data.toss_winner == match_data.winner)\n"
      ],
      "metadata": {
        "colab": {
          "base_uri": "https://localhost:8080/",
          "height": 340
        },
        "id": "I1Plcv5VWONu",
        "outputId": "9c8f9222-aee9-47f0-d224-6fffecf490c9"
      },
      "execution_count": 137,
      "outputs": [
        {
          "output_type": "stream",
          "name": "stderr",
          "text": [
            "/usr/local/lib/python3.7/dist-packages/seaborn/_decorators.py:43: FutureWarning: Pass the following variable as a keyword arg: x. From version 0.12, the only valid positional argument will be `data`, and passing other arguments without an explicit keyword will result in an error or misinterpretation.\n",
            "  FutureWarning\n"
          ]
        },
        {
          "output_type": "execute_result",
          "data": {
            "text/plain": [
              "<matplotlib.axes._subplots.AxesSubplot at 0x7fc77da159d0>"
            ]
          },
          "metadata": {},
          "execution_count": 137
        },
        {
          "output_type": "display_data",
          "data": {
            "text/plain": [
              "<Figure size 432x288 with 1 Axes>"
            ],
            "image/png": "[encoded data removed]"
          },
          "metadata": {
            "needs_background": "light"
          }
        }
      ]
    },
    {
      "cell_type": "code",
      "source": [
        "sns.countplot(match_data.toss_decision[match_data.winner==match_data.toss_winner])"
      ],
      "metadata": {
        "colab": {
          "base_uri": "https://localhost:8080/",
          "height": 354
        },
        "id": "pmtOxpX2bx2u",
        "outputId": "190b0da9-6a28-44b9-8512-0437486baea3"
      },
      "execution_count": 138,
      "outputs": [
        {
          "output_type": "stream",
          "name": "stderr",
          "text": [
            "/usr/local/lib/python3.7/dist-packages/seaborn/_decorators.py:43: FutureWarning: Pass the following variable as a keyword arg: x. From version 0.12, the only valid positional argument will be `data`, and passing other arguments without an explicit keyword will result in an error or misinterpretation.\n",
            "  FutureWarning\n"
          ]
        },
        {
          "output_type": "execute_result",
          "data": {
            "text/plain": [
              "<matplotlib.axes._subplots.AxesSubplot at 0x7fc77d230bd0>"
            ]
          },
          "metadata": {},
          "execution_count": 138
        },
        {
          "output_type": "display_data",
          "data": {
            "text/plain": [
              "<Figure size 432x288 with 1 Axes>"
            ],
            "image/png": "[encoded data removed]"
          },
          "metadata": {
            "needs_background": "light"
          }
        }
      ]
    },
    {
      "cell_type": "code",
      "source": [
        "player=(ball_data[\"striker\"]==\"V Kohli\")\n",
        "df_virat=ball_data[player]\n",
        "df_virat.head()"
      ],
      "metadata": {
        "colab": {
          "base_uri": "https://localhost:8080/",
          "height": 444
        },
        "id": "kPbh4toKbx5t",
        "outputId": "104c50a4-b729-433f-a917-6b507786e868"
      },
      "execution_count": 139,
      "outputs": [
        {
          "output_type": "execute_result",
          "data": {
            "text/plain": [
              "     match_id   season  start_date                  venue  innings  ball  \\\n",
              "132    335982  2007/08  2008-04-18  M Chinnaswamy Stadium        2   1.2   \n",
              "133    335982  2007/08  2008-04-18  M Chinnaswamy Stadium        2   1.3   \n",
              "134    335982  2007/08  2008-04-18  M Chinnaswamy Stadium        2   1.4   \n",
              "137    335982  2007/08  2008-04-18  M Chinnaswamy Stadium        2   2.1   \n",
              "138    335982  2007/08  2008-04-18  M Chinnaswamy Stadium        2   2.2   \n",
              "\n",
              "                    batting_team           bowling_team  striker non_striker  \\\n",
              "132  Royal Challengers Bangalore  Kolkata Knight Riders  V Kohli    W Jaffer   \n",
              "133  Royal Challengers Bangalore  Kolkata Knight Riders  V Kohli    W Jaffer   \n",
              "134  Royal Challengers Bangalore  Kolkata Knight Riders  V Kohli    W Jaffer   \n",
              "137  Royal Challengers Bangalore  Kolkata Knight Riders  V Kohli    W Jaffer   \n",
              "138  Royal Challengers Bangalore  Kolkata Knight Riders  V Kohli    W Jaffer   \n",
              "\n",
              "       bowler  runs_off_bat  extras  wides  noballs  byes  legbyes  penalty  \\\n",
              "132  I Sharma             0       0    NaN      NaN   NaN      NaN      NaN   \n",
              "133  I Sharma             0       4    NaN      NaN   NaN      4.0      NaN   \n",
              "134  I Sharma             1       0    NaN      NaN   NaN      NaN      NaN   \n",
              "137  AB Dinda             0       0    NaN      NaN   NaN      NaN      NaN   \n",
              "138  AB Dinda             0       0    NaN      NaN   NaN      NaN      NaN   \n",
              "\n",
              "    wicket_type player_dismissed  other_wicket_type  other_player_dismissed  \n",
              "132         NaN              NaN                NaN                     NaN  \n",
              "133         NaN              NaN                NaN                     NaN  \n",
              "134         NaN              NaN                NaN                     NaN  \n",
              "137         NaN              NaN                NaN                     NaN  \n",
              "138      bowled          V Kohli                NaN                     NaN  "
            ],
            "text/html": [
              "\n",
              "  <div id=\"df-7133c652-93d4-4ad3-b545-708cefeb7168\">\n",
              "    <div class=\"colab-df-container\">\n",
              "      <div>\n",
              "<style scoped>\n",
              "    .dataframe tbody tr th:only-of-type {\n",
              "        vertical-align: middle;\n",
              "    }\n",
              "\n",
              "    .dataframe tbody tr th {\n",
              "        vertical-align: top;\n",
              "    }\n",
              "\n",
              "    .dataframe thead th {\n",
              "        text-align: right;\n",
              "    }\n",
              "</style>\n",
              "<table border=\"1\" class=\"dataframe\">\n",
              "  <thead>\n",
              "    <tr style=\"text-align: right;\">\n",
              "      <th></th>\n",
              "      <th>match_id</th>\n",
              "      <th>season</th>\n",
              "      <th>start_date</th>\n",
              "      <th>venue</th>\n",
              "      <th>innings</th>\n",
              "      <th>ball</th>\n",
              "      <th>batting_team</th>\n",
              "      <th>bowling_team</th>\n",
              "      <th>striker</th>\n",
              "      <th>non_striker</th>\n",
              "      <th>bowler</th>\n",
              "      <th>runs_off_bat</th>\n",
              "      <th>extras</th>\n",
              "      <th>wides</th>\n",
              "      <th>noballs</th>\n",
              "      <th>byes</th>\n",
              "      <th>legbyes</th>\n",
              "      <th>penalty</th>\n",
              "      <th>wicket_type</th>\n",
              "      <th>player_dismissed</th>\n",
              "      <th>other_wicket_type</th>\n",
              "      <th>other_player_dismissed</th>\n",
              "    </tr>\n",
              "  </thead>\n",
              "  <tbody>\n",
              "    <tr>\n",
              "      <th>132</th>\n",
              "      <td>335982</td>\n",
              "      <td>2007/08</td>\n",
              "      <td>2008-04-18</td>\n",
              "      <td>M Chinnaswamy Stadium</td>\n",
              "      <td>2</td>\n",
              "      <td>1.2</td>\n",
              "      <td>Royal Challengers Bangalore</td>\n",
              "      <td>Kolkata Knight Riders</td>\n",
              "      <td>V Kohli</td>\n",
              "      <td>W Jaffer</td>\n",
              "      <td>I Sharma</td>\n",
              "      <td>0</td>\n",
              "      <td>0</td>\n",
              "      <td>NaN</td>\n",
              "      <td>NaN</td>\n",
              "      <td>NaN</td>\n",
              "      <td>NaN</td>\n",
              "      <td>NaN</td>\n",
              "      <td>NaN</td>\n",
              "      <td>NaN</td>\n",
              "      <td>NaN</td>\n",
              "      <td>NaN</td>\n",
              "    </tr>\n",
              "    <tr>\n",
              "      <th>133</th>\n",
              "      <td>335982</td>\n",
              "      <td>2007/08</td>\n",
              "      <td>2008-04-18</td>\n",
              "      <td>M Chinnaswamy Stadium</td>\n",
              "      <td>2</td>\n",
              "      <td>1.3</td>\n",
              "      <td>Royal Challengers Bangalore</td>\n",
              "      <td>Kolkata Knight Riders</td>\n",
              "      <td>V Kohli</td>\n",
              "      <td>W Jaffer</td>\n",
              "      <td>I Sharma</td>\n",
              "      <td>0</td>\n",
              "      <td>4</td>\n",
              "      <td>NaN</td>\n",
              "      <td>NaN</td>\n",
              "      <td>NaN</td>\n",
              "      <td>4.0</td>\n",
              "      <td>NaN</td>\n",
              "      <td>NaN</td>\n",
              "      <td>NaN</td>\n",
              "      <td>NaN</td>\n",
              "      <td>NaN</td>\n",
              "    </tr>\n",
              "    <tr>\n",
              "      <th>134</th>\n",
              "      <td>335982</td>\n",
              "      <td>2007/08</td>\n",
              "      <td>2008-04-18</td>\n",
              "      <td>M Chinnaswamy Stadium</td>\n",
              "      <td>2</td>\n",
              "      <td>1.4</td>\n",
              "      <td>Royal Challengers Bangalore</td>\n",
              "      <td>Kolkata Knight Riders</td>\n",
              "      <td>V Kohli</td>\n",
              "      <td>W Jaffer</td>\n",
              "      <td>I Sharma</td>\n",
              "      <td>1</td>\n",
              "      <td>0</td>\n",
              "      <td>NaN</td>\n",
              "      <td>NaN</td>\n",
              "      <td>NaN</td>\n",
              "      <td>NaN</td>\n",
              "      <td>NaN</td>\n",
              "      <td>NaN</td>\n",
              "      <td>NaN</td>\n",
              "      <td>NaN</td>\n",
              "      <td>NaN</td>\n",
              "    </tr>\n",
              "    <tr>\n",
              "      <th>137</th>\n",
              "      <td>335982</td>\n",
              "      <td>2007/08</td>\n",
              "      <td>2008-04-18</td>\n",
              "      <td>M Chinnaswamy Stadium</td>\n",
              "      <td>2</td>\n",
              "      <td>2.1</td>\n",
              "      <td>Royal Challengers Bangalore</td>\n",
              "      <td>Kolkata Knight Riders</td>\n",
              "      <td>V Kohli</td>\n",
              "      <td>W Jaffer</td>\n",
              "      <td>AB Dinda</td>\n",
              "      <td>0</td>\n",
              "      <td>0</td>\n",
              "      <td>NaN</td>\n",
              "      <td>NaN</td>\n",
              "      <td>NaN</td>\n",
              "      <td>NaN</td>\n",
              "      <td>NaN</td>\n",
              "      <td>NaN</td>\n",
              "      <td>NaN</td>\n",
              "      <td>NaN</td>\n",
              "      <td>NaN</td>\n",
              "    </tr>\n",
              "    <tr>\n",
              "      <th>138</th>\n",
              "      <td>335982</td>\n",
              "      <td>2007/08</td>\n",
              "      <td>2008-04-18</td>\n",
              "      <td>M Chinnaswamy Stadium</td>\n",
              "      <td>2</td>\n",
              "      <td>2.2</td>\n",
              "      <td>Royal Challengers Bangalore</td>\n",
              "      <td>Kolkata Knight Riders</td>\n",
              "      <td>V Kohli</td>\n",
              "      <td>W Jaffer</td>\n",
              "      <td>AB Dinda</td>\n",
              "      <td>0</td>\n",
              "      <td>0</td>\n",
              "      <td>NaN</td>\n",
              "      <td>NaN</td>\n",
              "      <td>NaN</td>\n",
              "      <td>NaN</td>\n",
              "      <td>NaN</td>\n",
              "      <td>bowled</td>\n",
              "      <td>V Kohli</td>\n",
              "      <td>NaN</td>\n",
              "      <td>NaN</td>\n",
              "    </tr>\n",
              "  </tbody>\n",
              "</table>\n",
              "</div>\n",
              "      <button class=\"colab-df-convert\" onclick=\"convertToInteractive('df-7133c652-93d4-4ad3-b545-708cefeb7168')\"\n",
              "              title=\"Convert this dataframe to an interactive table.\"\n",
              "              style=\"display:none;\">\n",
              "        \n",
              "  <svg xmlns=\"http://www.w3.org/2000/svg\" height=\"24px\"viewBox=\"0 0 24 24\"\n",
              "       width=\"24px\">\n",
              "    <path d=\"M0 0h24v24H0V0z\" fill=\"none\"/>\n",
              "    <path d=\"M18.56 5.44l.94 2.06.94-2.06 2.06-.94-2.06-.94-.94-2.06-.94 2.06-2.06.94zm-11 1L8.5 8.5l.94-2.06 2.06-.94-2.06-.94L8.5 2.5l-.94 2.06-2.06.94zm10 10l.94 2.06.94-2.06 2.06-.94-2.06-.94-.94-2.06-.94 2.06-2.06.94z\"/><path d=\"M17.41 7.96l-1.37-1.37c-.4-.4-.92-.59-1.43-.59-.52 0-1.04.2-1.43.59L10.3 9.45l-7.72 7.72c-.78.78-.78 2.05 0 2.83L4 21.41c.39.39.9.59 1.41.59.51 0 1.02-.2 1.41-.59l7.78-7.78 2.81-2.81c.8-.78.8-2.07 0-2.86zM5.41 20L4 18.59l7.72-7.72 1.47 1.35L5.41 20z\"/>\n",
              "  </svg>\n",
              "      </button>\n",
              "      \n",
              "  <style>\n",
              "    .colab-df-container {\n",
              "      display:flex;\n",
              "      flex-wrap:wrap;\n",
              "      gap: 12px;\n",
              "    }\n",
              "\n",
              "    .colab-df-convert {\n",
              "      background-color: #E8F0FE;\n",
              "      border: none;\n",
              "      border-radius: 50%;\n",
              "      cursor: pointer;\n",
              "      display: none;\n",
              "      fill: #1967D2;\n",
              "      height: 32px;\n",
              "      padding: 0 0 0 0;\n",
              "      width: 32px;\n",
              "    }\n",
              "\n",
              "    .colab-df-convert:hover {\n",
              "      background-color: #E2EBFA;\n",
              "      box-shadow: 0px 1px 2px rgba(60, 64, 67, 0.3), 0px 1px 3px 1px rgba(60, 64, 67, 0.15);\n",
              "      fill: #174EA6;\n",
              "    }\n",
              "\n",
              "    [theme=dark] .colab-df-convert {\n",
              "      background-color: #3B4455;\n",
              "      fill: #D2E3FC;\n",
              "    }\n",
              "\n",
              "    [theme=dark] .colab-df-convert:hover {\n",
              "      background-color: #434B5C;\n",
              "      box-shadow: 0px 1px 3px 1px rgba(0, 0, 0, 0.15);\n",
              "      filter: drop-shadow(0px 1px 2px rgba(0, 0, 0, 0.3));\n",
              "      fill: #FFFFFF;\n",
              "    }\n",
              "  </style>\n",
              "\n",
              "      <script>\n",
              "        const buttonEl =\n",
              "          document.querySelector('#df-7133c652-93d4-4ad3-b545-708cefeb7168 button.colab-df-convert');\n",
              "        buttonEl.style.display =\n",
              "          google.colab.kernel.accessAllowed ? 'block' : 'none';\n",
              "\n",
              "        async function convertToInteractive(key) {\n",
              "          const element = document.querySelector('#df-7133c652-93d4-4ad3-b545-708cefeb7168');\n",
              "          const dataTable =\n",
              "            await google.colab.kernel.invokeFunction('convertToInteractive',\n",
              "                                                     [key], {});\n",
              "          if (!dataTable) return;\n",
              "\n",
              "          const docLinkHtml = 'Like what you see? Visit the ' +\n",
              "            '<a target=\"_blank\" href=https://colab.research.google.com/notebooks/data_table.ipynb>data table notebook</a>'\n",
              "            + ' to learn more about interactive tables.';\n",
              "          element.innerHTML = '';\n",
              "          dataTable['output_type'] = 'display_data';\n",
              "          await google.colab.output.renderOutput(dataTable, element);\n",
              "          const docLink = document.createElement('div');\n",
              "          docLink.innerHTML = docLinkHtml;\n",
              "          element.appendChild(docLink);\n",
              "        }\n",
              "      </script>\n",
              "    </div>\n",
              "  </div>\n",
              "  "
            ]
          },
          "metadata": {},
          "execution_count": 139
        }
      ]
    },
    {
      "cell_type": "code",
      "source": [
        "df_virat[\"wicket_type\"].value_counts().plot.pie(autopct=\"%1.1f%%\",rotatelabels=True)\n",
        "plt.title(\"dismissal types\",fontweight=\"bold\")"
      ],
      "metadata": {
        "colab": {
          "base_uri": "https://localhost:8080/",
          "height": 304
        },
        "id": "BA4TUSpzbx8q",
        "outputId": "f7ad58e3-fc5f-4674-8eeb-9f50669676fc"
      },
      "execution_count": 140,
      "outputs": [
        {
          "output_type": "execute_result",
          "data": {
            "text/plain": [
              "Text(0.5, 1.0, 'dismissal types')"
            ]
          },
          "metadata": {},
          "execution_count": 140
        },
        {
          "output_type": "display_data",
          "data": {
            "text/plain": [
              "<Figure size 432x288 with 1 Axes>"
            ],
            "image/png": "[encoded data removed]"
          },
          "metadata": {}
        }
      ]
    },
    {
      "cell_type": "code",
      "source": [
        "def count(df_virat,runs):\n",
        "  return len(df_virat[df_virat[\"runs_off_bat\"]==runs])*runs"
      ],
      "metadata": {
        "id": "GKamH8HVbyAP"
      },
      "execution_count": 141,
      "outputs": []
    },
    {
      "cell_type": "code",
      "source": [
        "print(\"runs scored from 1s: \",count(df_virat,1))\n",
        "print(\"runs scored from 2s: \",count(df_virat,2))\n",
        "print(\"runs scored from 3s: \",count(df_virat,3))\n",
        "print(\"runs scored from 4s: \",count(df_virat,4))\n",
        "print(\"runs scored from 6s: \",count(df_virat,6))"
      ],
      "metadata": {
        "colab": {
          "base_uri": "https://localhost:8080/"
        },
        "id": "jazHd7TcbyC1",
        "outputId": "878a16ad-74da-491c-eafc-46e186757d24"
      },
      "execution_count": 142,
      "outputs": [
        {
          "output_type": "stream",
          "name": "stdout",
          "text": [
            "runs scored from 1s:  2183\n",
            "runs scored from 2s:  756\n",
            "runs scored from 3s:  57\n",
            "runs scored from 4s:  2324\n",
            "runs scored from 6s:  1314\n"
          ]
        }
      ]
    },
    {
      "cell_type": "code",
      "source": [
        "pd.set_option('display.max_columns', None)\n",
        "match_data[match_data[\"winner_runs\"]==match_data[\"winner_runs\"].max()]\n"
      ],
      "metadata": {
        "colab": {
          "base_uri": "https://localhost:8080/",
          "height": 179
        },
        "id": "tleng1V_SnSr",
        "outputId": "9f8d0fd6-c5a7-4e75-b2c3-e684baf87f92"
      },
      "execution_count": 143,
      "outputs": [
        {
          "output_type": "execute_result",
          "data": {
            "text/plain": [
              "     match_id  season        date   city             venue             team1  \\\n",
              "620   1082635    2017  2017-05-06  Delhi  Feroz Shah Kotla  Delhi Daredevils   \n",
              "\n",
              "              team2       toss_winner toss_decision player_of_match  \\\n",
              "620  Mumbai Indians  Delhi Daredevils         field     LMP Simmons   \n",
              "\n",
              "             winner  winner_wickets  winner_runs outcome result_type  results  \\\n",
              "620  Mumbai Indians               0          146     NaN    defended      146   \n",
              "\n",
              "    gender                  event  match_number      umpire1    umpire2  \\\n",
              "620   male  Indian Premier League          45.0  Nitin Menon  CK Nandan   \n",
              "\n",
              "    reserve_umpire tv_umpire match_referee eliminator method date_1  \n",
              "620   K Srinivasan  YC Barde      M Nayyar        NaN    NaN    NaN  "
            ],
            "text/html": [
              "\n",
              "  <div id=\"df-71c49b31-2434-4dae-8596-e7eaf03e1aea\">\n",
              "    <div class=\"colab-df-container\">\n",
              "      <div>\n",
              "<style scoped>\n",
              "    .dataframe tbody tr th:only-of-type {\n",
              "        vertical-align: middle;\n",
              "    }\n",
              "\n",
              "    .dataframe tbody tr th {\n",
              "        vertical-align: top;\n",
              "    }\n",
              "\n",
              "    .dataframe thead th {\n",
              "        text-align: right;\n",
              "    }\n",
              "</style>\n",
              "<table border=\"1\" class=\"dataframe\">\n",
              "  <thead>\n",
              "    <tr style=\"text-align: right;\">\n",
              "      <th></th>\n",
              "      <th>match_id</th>\n",
              "      <th>season</th>\n",
              "      <th>date</th>\n",
              "      <th>city</th>\n",
              "      <th>venue</th>\n",
              "      <th>team1</th>\n",
              "      <th>team2</th>\n",
              "      <th>toss_winner</th>\n",
              "      <th>toss_decision</th>\n",
              "      <th>player_of_match</th>\n",
              "      <th>winner</th>\n",
              "      <th>winner_wickets</th>\n",
              "      <th>winner_runs</th>\n",
              "      <th>outcome</th>\n",
              "      <th>result_type</th>\n",
              "      <th>results</th>\n",
              "      <th>gender</th>\n",
              "      <th>event</th>\n",
              "      <th>match_number</th>\n",
              "      <th>umpire1</th>\n",
              "      <th>umpire2</th>\n",
              "      <th>reserve_umpire</th>\n",
              "      <th>tv_umpire</th>\n",
              "      <th>match_referee</th>\n",
              "      <th>eliminator</th>\n",
              "      <th>method</th>\n",
              "      <th>date_1</th>\n",
              "    </tr>\n",
              "  </thead>\n",
              "  <tbody>\n",
              "    <tr>\n",
              "      <th>620</th>\n",
              "      <td>1082635</td>\n",
              "      <td>2017</td>\n",
              "      <td>2017-05-06</td>\n",
              "      <td>Delhi</td>\n",
              "      <td>Feroz Shah Kotla</td>\n",
              "      <td>Delhi Daredevils</td>\n",
              "      <td>Mumbai Indians</td>\n",
              "      <td>Delhi Daredevils</td>\n",
              "      <td>field</td>\n",
              "      <td>LMP Simmons</td>\n",
              "      <td>Mumbai Indians</td>\n",
              "      <td>0</td>\n",
              "      <td>146</td>\n",
              "      <td>NaN</td>\n",
              "      <td>defended</td>\n",
              "      <td>146</td>\n",
              "      <td>male</td>\n",
              "      <td>Indian Premier League</td>\n",
              "      <td>45.0</td>\n",
              "      <td>Nitin Menon</td>\n",
              "      <td>CK Nandan</td>\n",
              "      <td>K Srinivasan</td>\n",
              "      <td>YC Barde</td>\n",
              "      <td>M Nayyar</td>\n",
              "      <td>NaN</td>\n",
              "      <td>NaN</td>\n",
              "      <td>NaN</td>\n",
              "    </tr>\n",
              "  </tbody>\n",
              "</table>\n",
              "</div>\n",
              "      <button class=\"colab-df-convert\" onclick=\"convertToInteractive('df-71c49b31-2434-4dae-8596-e7eaf03e1aea')\"\n",
              "              title=\"Convert this dataframe to an interactive table.\"\n",
              "              style=\"display:none;\">\n",
              "        \n",
              "  <svg xmlns=\"http://www.w3.org/2000/svg\" height=\"24px\"viewBox=\"0 0 24 24\"\n",
              "       width=\"24px\">\n",
              "    <path d=\"M0 0h24v24H0V0z\" fill=\"none\"/>\n",
              "    <path d=\"M18.56 5.44l.94 2.06.94-2.06 2.06-.94-2.06-.94-.94-2.06-.94 2.06-2.06.94zm-11 1L8.5 8.5l.94-2.06 2.06-.94-2.06-.94L8.5 2.5l-.94 2.06-2.06.94zm10 10l.94 2.06.94-2.06 2.06-.94-2.06-.94-.94-2.06-.94 2.06-2.06.94z\"/><path d=\"M17.41 7.96l-1.37-1.37c-.4-.4-.92-.59-1.43-.59-.52 0-1.04.2-1.43.59L10.3 9.45l-7.72 7.72c-.78.78-.78 2.05 0 2.83L4 21.41c.39.39.9.59 1.41.59.51 0 1.02-.2 1.41-.59l7.78-7.78 2.81-2.81c.8-.78.8-2.07 0-2.86zM5.41 20L4 18.59l7.72-7.72 1.47 1.35L5.41 20z\"/>\n",
              "  </svg>\n",
              "      </button>\n",
              "      \n",
              "  <style>\n",
              "    .colab-df-container {\n",
              "      display:flex;\n",
              "      flex-wrap:wrap;\n",
              "      gap: 12px;\n",
              "    }\n",
              "\n",
              "    .colab-df-convert {\n",
              "      background-color: #E8F0FE;\n",
              "      border: none;\n",
              "      border-radius: 50%;\n",
              "      cursor: pointer;\n",
              "      display: none;\n",
              "      fill: #1967D2;\n",
              "      height: 32px;\n",
              "      padding: 0 0 0 0;\n",
              "      width: 32px;\n",
              "    }\n",
              "\n",
              "    .colab-df-convert:hover {\n",
              "      background-color: #E2EBFA;\n",
              "      box-shadow: 0px 1px 2px rgba(60, 64, 67, 0.3), 0px 1px 3px 1px rgba(60, 64, 67, 0.15);\n",
              "      fill: #174EA6;\n",
              "    }\n",
              "\n",
              "    [theme=dark] .colab-df-convert {\n",
              "      background-color: #3B4455;\n",
              "      fill: #D2E3FC;\n",
              "    }\n",
              "\n",
              "    [theme=dark] .colab-df-convert:hover {\n",
              "      background-color: #434B5C;\n",
              "      box-shadow: 0px 1px 3px 1px rgba(0, 0, 0, 0.15);\n",
              "      filter: drop-shadow(0px 1px 2px rgba(0, 0, 0, 0.3));\n",
              "      fill: #FFFFFF;\n",
              "    }\n",
              "  </style>\n",
              "\n",
              "      <script>\n",
              "        const buttonEl =\n",
              "          document.querySelector('#df-71c49b31-2434-4dae-8596-e7eaf03e1aea button.colab-df-convert');\n",
              "        buttonEl.style.display =\n",
              "          google.colab.kernel.accessAllowed ? 'block' : 'none';\n",
              "\n",
              "        async function convertToInteractive(key) {\n",
              "          const element = document.querySelector('#df-71c49b31-2434-4dae-8596-e7eaf03e1aea');\n",
              "          const dataTable =\n",
              "            await google.colab.kernel.invokeFunction('convertToInteractive',\n",
              "                                                     [key], {});\n",
              "          if (!dataTable) return;\n",
              "\n",
              "          const docLinkHtml = 'Like what you see? Visit the ' +\n",
              "            '<a target=\"_blank\" href=https://colab.research.google.com/notebooks/data_table.ipynb>data table notebook</a>'\n",
              "            + ' to learn more about interactive tables.';\n",
              "          element.innerHTML = '';\n",
              "          dataTable['output_type'] = 'display_data';\n",
              "          await google.colab.output.renderOutput(dataTable, element);\n",
              "          const docLink = document.createElement('div');\n",
              "          docLink.innerHTML = docLinkHtml;\n",
              "          element.appendChild(docLink);\n",
              "        }\n",
              "      </script>\n",
              "    </div>\n",
              "  </div>\n",
              "  "
            ]
          },
          "metadata": {},
          "execution_count": 143
        }
      ]
    },
    {
      "cell_type": "code",
      "source": [
        "runs=ball_data.groupby([\"striker\"])[\"runs_off_bat\"].sum().reset_index()\n",
        "runs.columns=[\"batsman\",\"runs\"]\n",
        "y=runs.sort_values(by=\"runs\",ascending=False).head(10).reset_index().drop(\"index\",axis=1)\n",
        "y"
      ],
      "metadata": {
        "colab": {
          "base_uri": "https://localhost:8080/",
          "height": 363
        },
        "id": "JkmEtbLnSnVi",
        "outputId": "f143f980-c96a-4a8e-ed18-1609312c3620"
      },
      "execution_count": 144,
      "outputs": [
        {
          "output_type": "execute_result",
          "data": {
            "text/plain": [
              "          batsman  runs\n",
              "0         V Kohli  6634\n",
              "1        S Dhawan  6244\n",
              "2       DA Warner  5883\n",
              "3       RG Sharma  5881\n",
              "4        SK Raina  5536\n",
              "5  AB de Villiers  5181\n",
              "6        CH Gayle  4997\n",
              "7        MS Dhoni  4978\n",
              "8      RV Uthappa  4954\n",
              "9      KD Karthik  4377"
            ],
            "text/html": [
              "\n",
              "  <div id=\"df-36ed4812-83a8-4f2e-8b98-bdc09deef67f\">\n",
              "    <div class=\"colab-df-container\">\n",
              "      <div>\n",
              "<style scoped>\n",
              "    .dataframe tbody tr th:only-of-type {\n",
              "        vertical-align: middle;\n",
              "    }\n",
              "\n",
              "    .dataframe tbody tr th {\n",
              "        vertical-align: top;\n",
              "    }\n",
              "\n",
              "    .dataframe thead th {\n",
              "        text-align: right;\n",
              "    }\n",
              "</style>\n",
              "<table border=\"1\" class=\"dataframe\">\n",
              "  <thead>\n",
              "    <tr style=\"text-align: right;\">\n",
              "      <th></th>\n",
              "      <th>batsman</th>\n",
              "      <th>runs</th>\n",
              "    </tr>\n",
              "  </thead>\n",
              "  <tbody>\n",
              "    <tr>\n",
              "      <th>0</th>\n",
              "      <td>V Kohli</td>\n",
              "      <td>6634</td>\n",
              "    </tr>\n",
              "    <tr>\n",
              "      <th>1</th>\n",
              "      <td>S Dhawan</td>\n",
              "      <td>6244</td>\n",
              "    </tr>\n",
              "    <tr>\n",
              "      <th>2</th>\n",
              "      <td>DA Warner</td>\n",
              "      <td>5883</td>\n",
              "    </tr>\n",
              "    <tr>\n",
              "      <th>3</th>\n",
              "      <td>RG Sharma</td>\n",
              "      <td>5881</td>\n",
              "    </tr>\n",
              "    <tr>\n",
              "      <th>4</th>\n",
              "      <td>SK Raina</td>\n",
              "      <td>5536</td>\n",
              "    </tr>\n",
              "    <tr>\n",
              "      <th>5</th>\n",
              "      <td>AB de Villiers</td>\n",
              "      <td>5181</td>\n",
              "    </tr>\n",
              "    <tr>\n",
              "      <th>6</th>\n",
              "      <td>CH Gayle</td>\n",
              "      <td>4997</td>\n",
              "    </tr>\n",
              "    <tr>\n",
              "      <th>7</th>\n",
              "      <td>MS Dhoni</td>\n",
              "      <td>4978</td>\n",
              "    </tr>\n",
              "    <tr>\n",
              "      <th>8</th>\n",
              "      <td>RV Uthappa</td>\n",
              "      <td>4954</td>\n",
              "    </tr>\n",
              "    <tr>\n",
              "      <th>9</th>\n",
              "      <td>KD Karthik</td>\n",
              "      <td>4377</td>\n",
              "    </tr>\n",
              "  </tbody>\n",
              "</table>\n",
              "</div>\n",
              "      <button class=\"colab-df-convert\" onclick=\"convertToInteractive('df-36ed4812-83a8-4f2e-8b98-bdc09deef67f')\"\n",
              "              title=\"Convert this dataframe to an interactive table.\"\n",
              "              style=\"display:none;\">\n",
              "        \n",
              "  <svg xmlns=\"http://www.w3.org/2000/svg\" height=\"24px\"viewBox=\"0 0 24 24\"\n",
              "       width=\"24px\">\n",
              "    <path d=\"M0 0h24v24H0V0z\" fill=\"none\"/>\n",
              "    <path d=\"M18.56 5.44l.94 2.06.94-2.06 2.06-.94-2.06-.94-.94-2.06-.94 2.06-2.06.94zm-11 1L8.5 8.5l.94-2.06 2.06-.94-2.06-.94L8.5 2.5l-.94 2.06-2.06.94zm10 10l.94 2.06.94-2.06 2.06-.94-2.06-.94-.94-2.06-.94 2.06-2.06.94z\"/><path d=\"M17.41 7.96l-1.37-1.37c-.4-.4-.92-.59-1.43-.59-.52 0-1.04.2-1.43.59L10.3 9.45l-7.72 7.72c-.78.78-.78 2.05 0 2.83L4 21.41c.39.39.9.59 1.41.59.51 0 1.02-.2 1.41-.59l7.78-7.78 2.81-2.81c.8-.78.8-2.07 0-2.86zM5.41 20L4 18.59l7.72-7.72 1.47 1.35L5.41 20z\"/>\n",
              "  </svg>\n",
              "      </button>\n",
              "      \n",
              "  <style>\n",
              "    .colab-df-container {\n",
              "      display:flex;\n",
              "      flex-wrap:wrap;\n",
              "      gap: 12px;\n",
              "    }\n",
              "\n",
              "    .colab-df-convert {\n",
              "      background-color: #E8F0FE;\n",
              "      border: none;\n",
              "      border-radius: 50%;\n",
              "      cursor: pointer;\n",
              "      display: none;\n",
              "      fill: #1967D2;\n",
              "      height: 32px;\n",
              "      padding: 0 0 0 0;\n",
              "      width: 32px;\n",
              "    }\n",
              "\n",
              "    .colab-df-convert:hover {\n",
              "      background-color: #E2EBFA;\n",
              "      box-shadow: 0px 1px 2px rgba(60, 64, 67, 0.3), 0px 1px 3px 1px rgba(60, 64, 67, 0.15);\n",
              "      fill: #174EA6;\n",
              "    }\n",
              "\n",
              "    [theme=dark] .colab-df-convert {\n",
              "      background-color: #3B4455;\n",
              "      fill: #D2E3FC;\n",
              "    }\n",
              "\n",
              "    [theme=dark] .colab-df-convert:hover {\n",
              "      background-color: #434B5C;\n",
              "      box-shadow: 0px 1px 3px 1px rgba(0, 0, 0, 0.15);\n",
              "      filter: drop-shadow(0px 1px 2px rgba(0, 0, 0, 0.3));\n",
              "      fill: #FFFFFF;\n",
              "    }\n",
              "  </style>\n",
              "\n",
              "      <script>\n",
              "        const buttonEl =\n",
              "          document.querySelector('#df-36ed4812-83a8-4f2e-8b98-bdc09deef67f button.colab-df-convert');\n",
              "        buttonEl.style.display =\n",
              "          google.colab.kernel.accessAllowed ? 'block' : 'none';\n",
              "\n",
              "        async function convertToInteractive(key) {\n",
              "          const element = document.querySelector('#df-36ed4812-83a8-4f2e-8b98-bdc09deef67f');\n",
              "          const dataTable =\n",
              "            await google.colab.kernel.invokeFunction('convertToInteractive',\n",
              "                                                     [key], {});\n",
              "          if (!dataTable) return;\n",
              "\n",
              "          const docLinkHtml = 'Like what you see? Visit the ' +\n",
              "            '<a target=\"_blank\" href=https://colab.research.google.com/notebooks/data_table.ipynb>data table notebook</a>'\n",
              "            + ' to learn more about interactive tables.';\n",
              "          element.innerHTML = '';\n",
              "          dataTable['output_type'] = 'display_data';\n",
              "          await google.colab.output.renderOutput(dataTable, element);\n",
              "          const docLink = document.createElement('div');\n",
              "          docLink.innerHTML = docLinkHtml;\n",
              "          element.appendChild(docLink);\n",
              "        }\n",
              "      </script>\n",
              "    </div>\n",
              "  </div>\n",
              "  "
            ]
          },
          "metadata": {},
          "execution_count": 144
        }
      ]
    },
    {
      "cell_type": "code",
      "source": [
        "sns.barplot(x=y[\"batsman\"],y=y[\"runs\"],palette=\"icefire\",saturation=1)\n",
        "plt.xticks(rotation=90,fontsize=\"10\")\n",
        "plt.title(\"top scorers\")"
      ],
      "metadata": {
        "colab": {
          "base_uri": "https://localhost:8080/",
          "height": 369
        },
        "id": "th7G0MdKSnZD",
        "outputId": "582a6dc5-c6f2-41cd-d151-c90f0effe271"
      },
      "execution_count": 145,
      "outputs": [
        {
          "output_type": "execute_result",
          "data": {
            "text/plain": [
              "Text(0.5, 1.0, 'top scorers')"
            ]
          },
          "metadata": {},
          "execution_count": 145
        },
        {
          "output_type": "display_data",
          "data": {
            "text/plain": [
              "<Figure size 432x288 with 1 Axes>"
            ],
            "image/png": "[encoded data removed]"
          },
          "metadata": {
            "needs_background": "light"
          }
        }
      ]
    },
    {
      "cell_type": "code",
      "source": [
        "wickets=ball_data.groupby([\"bowler\"])[\"wicket_type\"].count().reset_index()\n",
        "wickets.columns=[\"bowler\",\"wickets\"]\n",
        "z=wickets.sort_values(by=\"wickets\",ascending=False).head(10).reset_index().drop(\"index\",axis=1)\n",
        "z\n"
      ],
      "metadata": {
        "colab": {
          "base_uri": "https://localhost:8080/",
          "height": 363
        },
        "id": "Ycgt1cygSnc7",
        "outputId": "65eba1d7-c6d7-4729-ad96-c06685341787"
      },
      "execution_count": 146,
      "outputs": [
        {
          "output_type": "execute_result",
          "data": {
            "text/plain": [
              "            bowler  wickets\n",
              "0         DJ Bravo      207\n",
              "1       SL Malinga      188\n",
              "2         A Mishra      175\n",
              "3         R Ashwin      174\n",
              "4        YS Chahal      172\n",
              "5        SP Narine      171\n",
              "6        PP Chawla      165\n",
              "7          B Kumar      165\n",
              "8  Harbhajan Singh      161\n",
              "9        JJ Bumrah      161"
            ],
            "text/html": [
              "\n",
              "  <div id=\"df-49d515fd-88b3-4563-a28e-5d676d660c24\">\n",
              "    <div class=\"colab-df-container\">\n",
              "      <div>\n",
              "<style scoped>\n",
              "    .dataframe tbody tr th:only-of-type {\n",
              "        vertical-align: middle;\n",
              "    }\n",
              "\n",
              "    .dataframe tbody tr th {\n",
              "        vertical-align: top;\n",
              "    }\n",
              "\n",
              "    .dataframe thead th {\n",
              "        text-align: right;\n",
              "    }\n",
              "</style>\n",
              "<table border=\"1\" class=\"dataframe\">\n",
              "  <thead>\n",
              "    <tr style=\"text-align: right;\">\n",
              "      <th></th>\n",
              "      <th>bowler</th>\n",
              "      <th>wickets</th>\n",
              "    </tr>\n",
              "  </thead>\n",
              "  <tbody>\n",
              "    <tr>\n",
              "      <th>0</th>\n",
              "      <td>DJ Bravo</td>\n",
              "      <td>207</td>\n",
              "    </tr>\n",
              "    <tr>\n",
              "      <th>1</th>\n",
              "      <td>SL Malinga</td>\n",
              "      <td>188</td>\n",
              "    </tr>\n",
              "    <tr>\n",
              "      <th>2</th>\n",
              "      <td>A Mishra</td>\n",
              "      <td>175</td>\n",
              "    </tr>\n",
              "    <tr>\n",
              "      <th>3</th>\n",
              "      <td>R Ashwin</td>\n",
              "      <td>174</td>\n",
              "    </tr>\n",
              "    <tr>\n",
              "      <th>4</th>\n",
              "      <td>YS Chahal</td>\n",
              "      <td>172</td>\n",
              "    </tr>\n",
              "    <tr>\n",
              "      <th>5</th>\n",
              "      <td>SP Narine</td>\n",
              "      <td>171</td>\n",
              "    </tr>\n",
              "    <tr>\n",
              "      <th>6</th>\n",
              "      <td>PP Chawla</td>\n",
              "      <td>165</td>\n",
              "    </tr>\n",
              "    <tr>\n",
              "      <th>7</th>\n",
              "      <td>B Kumar</td>\n",
              "      <td>165</td>\n",
              "    </tr>\n",
              "    <tr>\n",
              "      <th>8</th>\n",
              "      <td>Harbhajan Singh</td>\n",
              "      <td>161</td>\n",
              "    </tr>\n",
              "    <tr>\n",
              "      <th>9</th>\n",
              "      <td>JJ Bumrah</td>\n",
              "      <td>161</td>\n",
              "    </tr>\n",
              "  </tbody>\n",
              "</table>\n",
              "</div>\n",
              "      <button class=\"colab-df-convert\" onclick=\"convertToInteractive('df-49d515fd-88b3-4563-a28e-5d676d660c24')\"\n",
              "              title=\"Convert this dataframe to an interactive table.\"\n",
              "              style=\"display:none;\">\n",
              "        \n",
              "  <svg xmlns=\"http://www.w3.org/2000/svg\" height=\"24px\"viewBox=\"0 0 24 24\"\n",
              "       width=\"24px\">\n",
              "    <path d=\"M0 0h24v24H0V0z\" fill=\"none\"/>\n",
              "    <path d=\"M18.56 5.44l.94 2.06.94-2.06 2.06-.94-2.06-.94-.94-2.06-.94 2.06-2.06.94zm-11 1L8.5 8.5l.94-2.06 2.06-.94-2.06-.94L8.5 2.5l-.94 2.06-2.06.94zm10 10l.94 2.06.94-2.06 2.06-.94-2.06-.94-.94-2.06-.94 2.06-2.06.94z\"/><path d=\"M17.41 7.96l-1.37-1.37c-.4-.4-.92-.59-1.43-.59-.52 0-1.04.2-1.43.59L10.3 9.45l-7.72 7.72c-.78.78-.78 2.05 0 2.83L4 21.41c.39.39.9.59 1.41.59.51 0 1.02-.2 1.41-.59l7.78-7.78 2.81-2.81c.8-.78.8-2.07 0-2.86zM5.41 20L4 18.59l7.72-7.72 1.47 1.35L5.41 20z\"/>\n",
              "  </svg>\n",
              "      </button>\n",
              "      \n",
              "  <style>\n",
              "    .colab-df-container {\n",
              "      display:flex;\n",
              "      flex-wrap:wrap;\n",
              "      gap: 12px;\n",
              "    }\n",
              "\n",
              "    .colab-df-convert {\n",
              "      background-color: #E8F0FE;\n",
              "      border: none;\n",
              "      border-radius: 50%;\n",
              "      cursor: pointer;\n",
              "      display: none;\n",
              "      fill: #1967D2;\n",
              "      height: 32px;\n",
              "      padding: 0 0 0 0;\n",
              "      width: 32px;\n",
              "    }\n",
              "\n",
              "    .colab-df-convert:hover {\n",
              "      background-color: #E2EBFA;\n",
              "      box-shadow: 0px 1px 2px rgba(60, 64, 67, 0.3), 0px 1px 3px 1px rgba(60, 64, 67, 0.15);\n",
              "      fill: #174EA6;\n",
              "    }\n",
              "\n",
              "    [theme=dark] .colab-df-convert {\n",
              "      background-color: #3B4455;\n",
              "      fill: #D2E3FC;\n",
              "    }\n",
              "\n",
              "    [theme=dark] .colab-df-convert:hover {\n",
              "      background-color: #434B5C;\n",
              "      box-shadow: 0px 1px 3px 1px rgba(0, 0, 0, 0.15);\n",
              "      filter: drop-shadow(0px 1px 2px rgba(0, 0, 0, 0.3));\n",
              "      fill: #FFFFFF;\n",
              "    }\n",
              "  </style>\n",
              "\n",
              "      <script>\n",
              "        const buttonEl =\n",
              "          document.querySelector('#df-49d515fd-88b3-4563-a28e-5d676d660c24 button.colab-df-convert');\n",
              "        buttonEl.style.display =\n",
              "          google.colab.kernel.accessAllowed ? 'block' : 'none';\n",
              "\n",
              "        async function convertToInteractive(key) {\n",
              "          const element = document.querySelector('#df-49d515fd-88b3-4563-a28e-5d676d660c24');\n",
              "          const dataTable =\n",
              "            await google.colab.kernel.invokeFunction('convertToInteractive',\n",
              "                                                     [key], {});\n",
              "          if (!dataTable) return;\n",
              "\n",
              "          const docLinkHtml = 'Like what you see? Visit the ' +\n",
              "            '<a target=\"_blank\" href=https://colab.research.google.com/notebooks/data_table.ipynb>data table notebook</a>'\n",
              "            + ' to learn more about interactive tables.';\n",
              "          element.innerHTML = '';\n",
              "          dataTable['output_type'] = 'display_data';\n",
              "          await google.colab.output.renderOutput(dataTable, element);\n",
              "          const docLink = document.createElement('div');\n",
              "          docLink.innerHTML = docLinkHtml;\n",
              "          element.appendChild(docLink);\n",
              "        }\n",
              "      </script>\n",
              "    </div>\n",
              "  </div>\n",
              "  "
            ]
          },
          "metadata": {},
          "execution_count": 146
        }
      ]
    },
    {
      "cell_type": "code",
      "source": [
        "best_player=match_data[\"player_of_match\"].value_counts().head(10).reset_index()\n",
        "best_player.columns=[\"player\",\"player_of_match\"]\n",
        "best_player\n"
      ],
      "metadata": {
        "colab": {
          "base_uri": "https://localhost:8080/",
          "height": 363
        },
        "id": "9JZ45BCMSnex",
        "outputId": "b2de6c61-3573-47c6-e4be-911c1c3158e3"
      },
      "execution_count": 147,
      "outputs": [
        {
          "output_type": "execute_result",
          "data": {
            "text/plain": [
              "           player  player_of_match\n",
              "0  AB de Villiers               25\n",
              "1        CH Gayle               22\n",
              "2       RG Sharma               18\n",
              "3       DA Warner               18\n",
              "4        MS Dhoni               17\n",
              "5       SR Watson               16\n",
              "6       YK Pathan               16\n",
              "7         V Kohli               14\n",
              "8        SK Raina               14\n",
              "9      KA Pollard               14"
            ],
            "text/html": [
              "\n",
              "  <div id=\"df-e6dff7ae-724d-4567-a5ed-74f5b979763f\">\n",
              "    <div class=\"colab-df-container\">\n",
              "      <div>\n",
              "<style scoped>\n",
              "    .dataframe tbody tr th:only-of-type {\n",
              "        vertical-align: middle;\n",
              "    }\n",
              "\n",
              "    .dataframe tbody tr th {\n",
              "        vertical-align: top;\n",
              "    }\n",
              "\n",
              "    .dataframe thead th {\n",
              "        text-align: right;\n",
              "    }\n",
              "</style>\n",
              "<table border=\"1\" class=\"dataframe\">\n",
              "  <thead>\n",
              "    <tr style=\"text-align: right;\">\n",
              "      <th></th>\n",
              "      <th>player</th>\n",
              "      <th>player_of_match</th>\n",
              "    </tr>\n",
              "  </thead>\n",
              "  <tbody>\n",
              "    <tr>\n",
              "      <th>0</th>\n",
              "      <td>AB de Villiers</td>\n",
              "      <td>25</td>\n",
              "    </tr>\n",
              "    <tr>\n",
              "      <th>1</th>\n",
              "      <td>CH Gayle</td>\n",
              "      <td>22</td>\n",
              "    </tr>\n",
              "    <tr>\n",
              "      <th>2</th>\n",
              "      <td>RG Sharma</td>\n",
              "      <td>18</td>\n",
              "    </tr>\n",
              "    <tr>\n",
              "      <th>3</th>\n",
              "      <td>DA Warner</td>\n",
              "      <td>18</td>\n",
              "    </tr>\n",
              "    <tr>\n",
              "      <th>4</th>\n",
              "      <td>MS Dhoni</td>\n",
              "      <td>17</td>\n",
              "    </tr>\n",
              "    <tr>\n",
              "      <th>5</th>\n",
              "      <td>SR Watson</td>\n",
              "      <td>16</td>\n",
              "    </tr>\n",
              "    <tr>\n",
              "      <th>6</th>\n",
              "      <td>YK Pathan</td>\n",
              "      <td>16</td>\n",
              "    </tr>\n",
              "    <tr>\n",
              "      <th>7</th>\n",
              "      <td>V Kohli</td>\n",
              "      <td>14</td>\n",
              "    </tr>\n",
              "    <tr>\n",
              "      <th>8</th>\n",
              "      <td>SK Raina</td>\n",
              "      <td>14</td>\n",
              "    </tr>\n",
              "    <tr>\n",
              "      <th>9</th>\n",
              "      <td>KA Pollard</td>\n",
              "      <td>14</td>\n",
              "    </tr>\n",
              "  </tbody>\n",
              "</table>\n",
              "</div>\n",
              "      <button class=\"colab-df-convert\" onclick=\"convertToInteractive('df-e6dff7ae-724d-4567-a5ed-74f5b979763f')\"\n",
              "              title=\"Convert this dataframe to an interactive table.\"\n",
              "              style=\"display:none;\">\n",
              "        \n",
              "  <svg xmlns=\"http://www.w3.org/2000/svg\" height=\"24px\"viewBox=\"0 0 24 24\"\n",
              "       width=\"24px\">\n",
              "    <path d=\"M0 0h24v24H0V0z\" fill=\"none\"/>\n",
              "    <path d=\"M18.56 5.44l.94 2.06.94-2.06 2.06-.94-2.06-.94-.94-2.06-.94 2.06-2.06.94zm-11 1L8.5 8.5l.94-2.06 2.06-.94-2.06-.94L8.5 2.5l-.94 2.06-2.06.94zm10 10l.94 2.06.94-2.06 2.06-.94-2.06-.94-.94-2.06-.94 2.06-2.06.94z\"/><path d=\"M17.41 7.96l-1.37-1.37c-.4-.4-.92-.59-1.43-.59-.52 0-1.04.2-1.43.59L10.3 9.45l-7.72 7.72c-.78.78-.78 2.05 0 2.83L4 21.41c.39.39.9.59 1.41.59.51 0 1.02-.2 1.41-.59l7.78-7.78 2.81-2.81c.8-.78.8-2.07 0-2.86zM5.41 20L4 18.59l7.72-7.72 1.47 1.35L5.41 20z\"/>\n",
              "  </svg>\n",
              "      </button>\n",
              "      \n",
              "  <style>\n",
              "    .colab-df-container {\n",
              "      display:flex;\n",
              "      flex-wrap:wrap;\n",
              "      gap: 12px;\n",
              "    }\n",
              "\n",
              "    .colab-df-convert {\n",
              "      background-color: #E8F0FE;\n",
              "      border: none;\n",
              "      border-radius: 50%;\n",
              "      cursor: pointer;\n",
              "      display: none;\n",
              "      fill: #1967D2;\n",
              "      height: 32px;\n",
              "      padding: 0 0 0 0;\n",
              "      width: 32px;\n",
              "    }\n",
              "\n",
              "    .colab-df-convert:hover {\n",
              "      background-color: #E2EBFA;\n",
              "      box-shadow: 0px 1px 2px rgba(60, 64, 67, 0.3), 0px 1px 3px 1px rgba(60, 64, 67, 0.15);\n",
              "      fill: #174EA6;\n",
              "    }\n",
              "\n",
              "    [theme=dark] .colab-df-convert {\n",
              "      background-color: #3B4455;\n",
              "      fill: #D2E3FC;\n",
              "    }\n",
              "\n",
              "    [theme=dark] .colab-df-convert:hover {\n",
              "      background-color: #434B5C;\n",
              "      box-shadow: 0px 1px 3px 1px rgba(0, 0, 0, 0.15);\n",
              "      filter: drop-shadow(0px 1px 2px rgba(0, 0, 0, 0.3));\n",
              "      fill: #FFFFFF;\n",
              "    }\n",
              "  </style>\n",
              "\n",
              "      <script>\n",
              "        const buttonEl =\n",
              "          document.querySelector('#df-e6dff7ae-724d-4567-a5ed-74f5b979763f button.colab-df-convert');\n",
              "        buttonEl.style.display =\n",
              "          google.colab.kernel.accessAllowed ? 'block' : 'none';\n",
              "\n",
              "        async function convertToInteractive(key) {\n",
              "          const element = document.querySelector('#df-e6dff7ae-724d-4567-a5ed-74f5b979763f');\n",
              "          const dataTable =\n",
              "            await google.colab.kernel.invokeFunction('convertToInteractive',\n",
              "                                                     [key], {});\n",
              "          if (!dataTable) return;\n",
              "\n",
              "          const docLinkHtml = 'Like what you see? Visit the ' +\n",
              "            '<a target=\"_blank\" href=https://colab.research.google.com/notebooks/data_table.ipynb>data table notebook</a>'\n",
              "            + ' to learn more about interactive tables.';\n",
              "          element.innerHTML = '';\n",
              "          dataTable['output_type'] = 'display_data';\n",
              "          await google.colab.output.renderOutput(dataTable, element);\n",
              "          const docLink = document.createElement('div');\n",
              "          docLink.innerHTML = docLinkHtml;\n",
              "          element.appendChild(docLink);\n",
              "        }\n",
              "      </script>\n",
              "    </div>\n",
              "  </div>\n",
              "  "
            ]
          },
          "metadata": {},
          "execution_count": 147
        }
      ]
    },
    {
      "cell_type": "code",
      "source": [
        "sns.barplot(x=best_player[\"player\"],y=best_player[\"player_of_match\"])\n",
        "plt.xticks(rotation=90,fontsize=10)\n",
        "plt.title(\"best players\",fontweight=\"bold\")"
      ],
      "metadata": {
        "colab": {
          "base_uri": "https://localhost:8080/",
          "height": 369
        },
        "id": "H9PHkEL_gODM",
        "outputId": "61810e6d-ed98-4740-8ab8-ea3f229f34f5"
      },
      "execution_count": 148,
      "outputs": [
        {
          "output_type": "execute_result",
          "data": {
            "text/plain": [
              "Text(0.5, 1.0, 'best players')"
            ]
          },
          "metadata": {},
          "execution_count": 148
        },
        {
          "output_type": "display_data",
          "data": {
            "text/plain": [
              "<Figure size 432x288 with 1 Axes>"
            ],
            "image/png": "[encoded data removed]"
          },
          "metadata": {
            "needs_background": "light"
          }
        }
      ]
    }
  ]
}